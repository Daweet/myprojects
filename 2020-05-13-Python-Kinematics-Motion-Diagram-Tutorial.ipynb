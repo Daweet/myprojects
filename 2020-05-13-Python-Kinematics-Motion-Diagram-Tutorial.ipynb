{
 "cells": [
  {
   "cell_type": "markdown",
   "metadata": {},
   "source": [
    "# Python for Kinematics: Motion Diagram\n",
    "\n",
    "### Kinematic Equation\n",
    "\n",
    "I want to introduce you in this post how we can use `python` to graph motion diagrams or plots such as *postion-time*, *velocity-time*, *acceleration-time*. Graphs are helpful in many instances, and we use them in physics more often to 'see' the result. By looking at the plots we can understand what kind of relationship exists between two parameters and/or variables. Moreover, looking-visually- at a graph makes it easy to grasp the situation and help us widen our understanding. By looking at graphs, it is easily to answer questions like: Do I have linear relationship? or quadratic? or higher order polynomial? all this can be deduced after ploting the results. For some simple forms, the graphs help us to establish equations too, thereby allowing us generalize the conclusion. \n",
    "\n",
    "I will disscus here the simple use of Python to describe motion a system, specifically in a frictionless system, where we assume its effect is negligible, and use the plotted graph to decribe the motion and arrive at solution if need be. \n",
    "\n",
    "Since my aim is to show how to use python to get motion diagrams, I am skipping the derivation of kinematic equations in here. I believe you already are able to do so, if not I refer you to [Wikipedia](https://en.wikipedia.org/wiki/Equations_of_motion). For convenienece we list the basic kinematic equations of motion as:\n",
    "\n",
    "> $v_{avg} =\\frac {v_{i} + v_{f}}{2}$  \n",
    "  $s=v_{avg}t$  \n",
    "  $v_{f} = v_{i} + a t$  \n",
    "  $v^2_{f} = v^2_{i}+2as$  \n",
    "  $s= v_{i}t + \\frac{1}{2}at^2$  \n",
    "  \n",
    "  \n",
    "One point worth mentioning about these equations is that they are used in a situation where the **acceleration is is constant**. These types of motion usually are referred to as Uniformly Accelerated Rectilinear Motion (UARM). Rectilinear-- indicates that the trajectory is a straight line.\n",
    "\n",
    "I assume you have already installed python(https://www.python.org) in your machine and have basic knowldge of how it works. For this tutorial you just need very basic know-how of python. \n",
    "\n",
    "Let me first import the libraries that I need for this particular post, as you will see below we are going to use them for plotting, forming data frame, and obtaining an intersection point/s. "
   ]
  },
  {
   "cell_type": "code",
   "execution_count": 1,
   "metadata": {},
   "outputs": [],
   "source": [
    "%matplotlib inline\n",
    "\n",
    "import matplotlib.pyplot as plt\n",
    "import pandas as pd\n",
    "import numpy as np\n",
    "import matplotlib.pyplot as plt \n",
    "from shapely.geometry import LineString\n",
    "from statistics import mean\n",
    "\n",
    "from sympy import *\n",
    "#from sympy import symbols\n",
    "#from sympy import plot\n",
    "\n",
    "from math import sqrt"
   ]
  },
  {
   "cell_type": "markdown",
   "metadata": {},
   "source": [
    "First let us see how we can plot a simple motion diagram, to exemplify I have the following data points that I got from[Serway](https://books.google.com/books/about/Physics_for_Scientists_and_Engineers_Cha.html?id=3dFWOQmkweMC). We are using SI units, we have a record of a motion, in x-axis, of an object as described by the time taken (in seconds) to cover the specified distance (in meters). \n",
    "\n",
    "First thing we need to do is put it in a DataFrame, so that we can make use of pandas library to do some calculation."
   ]
  },
  {
   "cell_type": "code",
   "execution_count": 2,
   "metadata": {},
   "outputs": [
    {
     "data": {
      "text/html": [
       "<div>\n",
       "<style scoped>\n",
       "    .dataframe tbody tr th:only-of-type {\n",
       "        vertical-align: middle;\n",
       "    }\n",
       "\n",
       "    .dataframe tbody tr th {\n",
       "        vertical-align: top;\n",
       "    }\n",
       "\n",
       "    .dataframe thead th {\n",
       "        text-align: right;\n",
       "    }\n",
       "</style>\n",
       "<table border=\"1\" class=\"dataframe\">\n",
       "  <thead>\n",
       "    <tr style=\"text-align: right;\">\n",
       "      <th></th>\n",
       "      <th>t (s)</th>\n",
       "      <th>x(m)</th>\n",
       "    </tr>\n",
       "  </thead>\n",
       "  <tbody>\n",
       "    <tr>\n",
       "      <th>0</th>\n",
       "      <td>0</td>\n",
       "      <td>30</td>\n",
       "    </tr>\n",
       "    <tr>\n",
       "      <th>1</th>\n",
       "      <td>1</td>\n",
       "      <td>52</td>\n",
       "    </tr>\n",
       "    <tr>\n",
       "      <th>2</th>\n",
       "      <td>2</td>\n",
       "      <td>38</td>\n",
       "    </tr>\n",
       "    <tr>\n",
       "      <th>3</th>\n",
       "      <td>3</td>\n",
       "      <td>0</td>\n",
       "    </tr>\n",
       "    <tr>\n",
       "      <th>4</th>\n",
       "      <td>4</td>\n",
       "      <td>-37</td>\n",
       "    </tr>\n",
       "    <tr>\n",
       "      <th>5</th>\n",
       "      <td>5</td>\n",
       "      <td>-53</td>\n",
       "    </tr>\n",
       "  </tbody>\n",
       "</table>\n",
       "</div>"
      ],
      "text/plain": [
       "   t (s)  x(m)\n",
       "0      0    30\n",
       "1      1    52\n",
       "2      2    38\n",
       "3      3     0\n",
       "4      4   -37\n",
       "5      5   -53"
      ]
     },
     "execution_count": 2,
     "metadata": {},
     "output_type": "execute_result"
    }
   ],
   "source": [
    "\n",
    "position_data = {'t (s)': [0, 1, 2, 3, 4, 5], 'x(m)': [30, 52, 38, 0,-37,-53]}\n",
    "position_DataFrame= pd.DataFrame.from_dict(position_data)\n",
    "position_DataFrame\n"
   ]
  },
  {
   "cell_type": "markdown",
   "metadata": {},
   "source": [
    "Once we got the data in DataFrame, we can use functions like `max()`, `min()`, `median()`, `mean()` to get the feel of the data"
   ]
  },
  {
   "cell_type": "code",
   "execution_count": 3,
   "metadata": {},
   "outputs": [
    {
     "name": "stdout",
     "output_type": "stream",
     "text": [
      "The max value of the position is: 52\n",
      "The min value of the position is: -53\n",
      "The mean value of the position is: 5.0\n",
      "The median value of the position is: 15.0\n"
     ]
    }
   ],
   "source": [
    "\n",
    "# We can print, min, max, mean, average of postion\n",
    "print(f\"The max value of the position is: {position_DataFrame['x(m)'].max()}\")\n",
    "print(f\"The min value of the position is: {position_DataFrame['x(m)'].min()}\")\n",
    "print(f\"The mean value of the position is: {position_DataFrame['x(m)'].mean()}\")\n",
    "print(f\"The median value of the position is: {position_DataFrame['x(m)'].median()}\")\n",
    "\n"
   ]
  },
  {
   "cell_type": "markdown",
   "metadata": {},
   "source": [
    "Also if you want to see it visually you can plot the data frame as follows, we are going to use scatter plot as we have very few data. But if you have ample data points then you can use line plot. The line plot connects the data points, and if we have very few data points like ours the curve won't be smooth. We will see examples in the next section."
   ]
  },
  {
   "cell_type": "code",
   "execution_count": 4,
   "metadata": {},
   "outputs": [
    {
     "data": {
      "image/png": "[encoded data removed]",
      "text/plain": [
       "<Figure size 432x288 with 1 Axes>"
      ]
     },
     "metadata": {
      "needs_background": "light"
     },
     "output_type": "display_data"
    }
   ],
   "source": [
    "position_DataFrame.plot(kind='scatter',x='t (s)', y='x(m)');"
   ]
  },
  {
   "cell_type": "markdown",
   "metadata": {},
   "source": [
    "This is a very simple, straight-forward plot of the data points, and we can see from the motion diagram of $x$ versus $t$ that the postion starts at 30m and goes down to -53m as time proceeds, and the curve looks kind of inverted parabola.\n",
    "\n",
    "Next step is to calculate the speed from our data, and by definition $\\Delta v = \\frac{\\Delta x}{\\Delta t}$, where $\\Delta = Final - Initial$. Therefore by considering each row as initial value for the next row, we can calculate the speed using the following code line."
   ]
  },
  {
   "cell_type": "code",
   "execution_count": 5,
   "metadata": {},
   "outputs": [
    {
     "data": {
      "text/html": [
       "<div>\n",
       "<style scoped>\n",
       "    .dataframe tbody tr th:only-of-type {\n",
       "        vertical-align: middle;\n",
       "    }\n",
       "\n",
       "    .dataframe tbody tr th {\n",
       "        vertical-align: top;\n",
       "    }\n",
       "\n",
       "    .dataframe thead th {\n",
       "        text-align: right;\n",
       "    }\n",
       "</style>\n",
       "<table border=\"1\" class=\"dataframe\">\n",
       "  <thead>\n",
       "    <tr style=\"text-align: right;\">\n",
       "      <th></th>\n",
       "      <th>t (s)</th>\n",
       "      <th>x(m)</th>\n",
       "      <th>v(m/s)</th>\n",
       "    </tr>\n",
       "  </thead>\n",
       "  <tbody>\n",
       "    <tr>\n",
       "      <th>0</th>\n",
       "      <td>0</td>\n",
       "      <td>30</td>\n",
       "      <td>NaN</td>\n",
       "    </tr>\n",
       "    <tr>\n",
       "      <th>1</th>\n",
       "      <td>1</td>\n",
       "      <td>52</td>\n",
       "      <td>22.0</td>\n",
       "    </tr>\n",
       "    <tr>\n",
       "      <th>2</th>\n",
       "      <td>2</td>\n",
       "      <td>38</td>\n",
       "      <td>-14.0</td>\n",
       "    </tr>\n",
       "    <tr>\n",
       "      <th>3</th>\n",
       "      <td>3</td>\n",
       "      <td>0</td>\n",
       "      <td>-38.0</td>\n",
       "    </tr>\n",
       "    <tr>\n",
       "      <th>4</th>\n",
       "      <td>4</td>\n",
       "      <td>-37</td>\n",
       "      <td>-37.0</td>\n",
       "    </tr>\n",
       "    <tr>\n",
       "      <th>5</th>\n",
       "      <td>5</td>\n",
       "      <td>-53</td>\n",
       "      <td>-16.0</td>\n",
       "    </tr>\n",
       "  </tbody>\n",
       "</table>\n",
       "</div>"
      ],
      "text/plain": [
       "   t (s)  x(m)  v(m/s)\n",
       "0      0    30     NaN\n",
       "1      1    52    22.0\n",
       "2      2    38   -14.0\n",
       "3      3     0   -38.0\n",
       "4      4   -37   -37.0\n",
       "5      5   -53   -16.0"
      ]
     },
     "execution_count": 5,
     "metadata": {},
     "output_type": "execute_result"
    }
   ],
   "source": [
    "\n",
    "# calculates speed from postion and time\n",
    "position_DataFrame['v(m/s)'] = (position_DataFrame['x(m)'] - position_DataFrame['x(m)'].shift(1)) / (position_DataFrame['t (s)'] - position_DataFrame['t (s)'].shift(1))\n",
    "position_DataFrame\n"
   ]
  },
  {
   "cell_type": "markdown",
   "metadata": {},
   "source": [
    "Notice here that, the first value of in v(m/s) is `NaN`, this happens because it doesn't have a previous row to subtract from. So we need to manually replace it by zero."
   ]
  },
  {
   "cell_type": "code",
   "execution_count": 6,
   "metadata": {},
   "outputs": [
    {
     "data": {
      "text/html": [
       "<div>\n",
       "<style scoped>\n",
       "    .dataframe tbody tr th:only-of-type {\n",
       "        vertical-align: middle;\n",
       "    }\n",
       "\n",
       "    .dataframe tbody tr th {\n",
       "        vertical-align: top;\n",
       "    }\n",
       "\n",
       "    .dataframe thead th {\n",
       "        text-align: right;\n",
       "    }\n",
       "</style>\n",
       "<table border=\"1\" class=\"dataframe\">\n",
       "  <thead>\n",
       "    <tr style=\"text-align: right;\">\n",
       "      <th></th>\n",
       "      <th>t (s)</th>\n",
       "      <th>x(m)</th>\n",
       "      <th>v(m/s)</th>\n",
       "    </tr>\n",
       "  </thead>\n",
       "  <tbody>\n",
       "    <tr>\n",
       "      <th>0</th>\n",
       "      <td>0</td>\n",
       "      <td>30</td>\n",
       "      <td>0.0</td>\n",
       "    </tr>\n",
       "    <tr>\n",
       "      <th>1</th>\n",
       "      <td>1</td>\n",
       "      <td>52</td>\n",
       "      <td>22.0</td>\n",
       "    </tr>\n",
       "    <tr>\n",
       "      <th>2</th>\n",
       "      <td>2</td>\n",
       "      <td>38</td>\n",
       "      <td>-14.0</td>\n",
       "    </tr>\n",
       "    <tr>\n",
       "      <th>3</th>\n",
       "      <td>3</td>\n",
       "      <td>0</td>\n",
       "      <td>-38.0</td>\n",
       "    </tr>\n",
       "    <tr>\n",
       "      <th>4</th>\n",
       "      <td>4</td>\n",
       "      <td>-37</td>\n",
       "      <td>-37.0</td>\n",
       "    </tr>\n",
       "    <tr>\n",
       "      <th>5</th>\n",
       "      <td>5</td>\n",
       "      <td>-53</td>\n",
       "      <td>-16.0</td>\n",
       "    </tr>\n",
       "  </tbody>\n",
       "</table>\n",
       "</div>"
      ],
      "text/plain": [
       "   t (s)  x(m)  v(m/s)\n",
       "0      0    30     0.0\n",
       "1      1    52    22.0\n",
       "2      2    38   -14.0\n",
       "3      3     0   -38.0\n",
       "4      4   -37   -37.0\n",
       "5      5   -53   -16.0"
      ]
     },
     "execution_count": 6,
     "metadata": {},
     "output_type": "execute_result"
    }
   ],
   "source": [
    "\n",
    "# Replace null values by zero\n",
    "position_DataFrame =position_DataFrame.fillna(0)\n",
    "position_DataFrame\n"
   ]
  },
  {
   "cell_type": "markdown",
   "metadata": {},
   "source": [
    "Again if we have information about speed, then we can calculate the accelaration. The step is pretty much the same as previous one, though now we take speed instaed of postion as by definition $\\Delta a = \\frac{\\Delta v}{\\Delta t}$. Recall each entry of the row is input as an intial value for the next row. Don't forget to replace the null values by zero."
   ]
  },
  {
   "cell_type": "code",
   "execution_count": 7,
   "metadata": {},
   "outputs": [
    {
     "data": {
      "text/html": [
       "<div>\n",
       "<style scoped>\n",
       "    .dataframe tbody tr th:only-of-type {\n",
       "        vertical-align: middle;\n",
       "    }\n",
       "\n",
       "    .dataframe tbody tr th {\n",
       "        vertical-align: top;\n",
       "    }\n",
       "\n",
       "    .dataframe thead th {\n",
       "        text-align: right;\n",
       "    }\n",
       "</style>\n",
       "<table border=\"1\" class=\"dataframe\">\n",
       "  <thead>\n",
       "    <tr style=\"text-align: right;\">\n",
       "      <th></th>\n",
       "      <th>t (s)</th>\n",
       "      <th>x(m)</th>\n",
       "      <th>v(m/s)</th>\n",
       "      <th>a(m/s^2)</th>\n",
       "    </tr>\n",
       "  </thead>\n",
       "  <tbody>\n",
       "    <tr>\n",
       "      <th>0</th>\n",
       "      <td>0</td>\n",
       "      <td>30</td>\n",
       "      <td>0.0</td>\n",
       "      <td>0.0</td>\n",
       "    </tr>\n",
       "    <tr>\n",
       "      <th>1</th>\n",
       "      <td>1</td>\n",
       "      <td>52</td>\n",
       "      <td>22.0</td>\n",
       "      <td>22.0</td>\n",
       "    </tr>\n",
       "    <tr>\n",
       "      <th>2</th>\n",
       "      <td>2</td>\n",
       "      <td>38</td>\n",
       "      <td>-14.0</td>\n",
       "      <td>-36.0</td>\n",
       "    </tr>\n",
       "    <tr>\n",
       "      <th>3</th>\n",
       "      <td>3</td>\n",
       "      <td>0</td>\n",
       "      <td>-38.0</td>\n",
       "      <td>-24.0</td>\n",
       "    </tr>\n",
       "    <tr>\n",
       "      <th>4</th>\n",
       "      <td>4</td>\n",
       "      <td>-37</td>\n",
       "      <td>-37.0</td>\n",
       "      <td>1.0</td>\n",
       "    </tr>\n",
       "    <tr>\n",
       "      <th>5</th>\n",
       "      <td>5</td>\n",
       "      <td>-53</td>\n",
       "      <td>-16.0</td>\n",
       "      <td>21.0</td>\n",
       "    </tr>\n",
       "  </tbody>\n",
       "</table>\n",
       "</div>"
      ],
      "text/plain": [
       "   t (s)  x(m)  v(m/s)  a(m/s^2)\n",
       "0      0    30     0.0       0.0\n",
       "1      1    52    22.0      22.0\n",
       "2      2    38   -14.0     -36.0\n",
       "3      3     0   -38.0     -24.0\n",
       "4      4   -37   -37.0       1.0\n",
       "5      5   -53   -16.0      21.0"
      ]
     },
     "execution_count": 7,
     "metadata": {},
     "output_type": "execute_result"
    }
   ],
   "source": [
    "\n",
    "#Calculate acceleration from speed\n",
    "position_DataFrame['a(m/s^2)'] = (position_DataFrame['v(m/s)'] - position_DataFrame['v(m/s)'].shift(1)) / (position_DataFrame['t (s)'] - position_DataFrame['t (s)'].shift(1))\n",
    "position_DataFrame =position_DataFrame.fillna(0)\n",
    "position_DataFrame\n"
   ]
  },
  {
   "cell_type": "markdown",
   "metadata": {},
   "source": [
    "## Smooth Curve Plots\n",
    "\n",
    "We have seen earilier that when your data points are taken to be few, the plot is better viewed via scatter plot as our eye connects the dot and completes the curve. But if we try to make a line plot, as we see below, the line tries to connect each data points and based on that it yields plot. \n",
    "\n",
    "<span style=\"color:blue\">Let us take an **example** where an object is thrown upward with an intial velocity of $20m/s$, we want to calculate the total height the object covers when t is five seconds. For this case we chose the kinematic equation with $s=h$ and $a=g$, to get an equation of the form $y=y_i + v_i t - \\frac{1}{2}gt^2$, where acceleration deue to gravity is given to be $g=9.8 m/s^2$.</span>\n",
    "\n",
    "We can use the `range()` method in pandas to list five time points and form data frame, this produces a one column DataFrame, next we can add another column to the DataFrame that calculates the height (based on the above formula) and let us name this column to be 'y'. That is it we just formed a DataFrame that has time and postion as its columns. If you notice this is the same dataFrame as the one seen above. That means we can plot and see the relationship. One point worth noting is that while using the `range()` function with **start** and **stop** points, the range of integers end at **stop – 1**. Of course we could a step size, but the steps shoup be in _int_.\n",
    "\n",
    "```python\n",
    "# The following creates a one-columned dataframe\n",
    "time = pd.DataFrame({'t':range(0,6)})\n",
    "#Next we calculate height and add the result as second column\n",
    "time['y'] = 0 + 20 * time['t'] - time['t'] **2 * 0.5* 9.8\n",
    "# recall t**2 is t squared\n",
    "```"
   ]
  },
  {
   "cell_type": "code",
   "execution_count": 8,
   "metadata": {},
   "outputs": [
    {
     "data": {
      "image/png": "[encoded data removed]",
      "text/plain": [
       "<Figure size 432x288 with 1 Axes>"
      ]
     },
     "metadata": {
      "needs_background": "light"
     },
     "output_type": "display_data"
    }
   ],
   "source": [
    "\n",
    "# form data frame out of time points\n",
    "time = pd.DataFrame({'t':range(0,6)})\n",
    "time['y'] = 0 + 20 * time['t'] -  0.5* 9.8*time['t'] **2 \n",
    "time.plot(kind='scatter',x='t',y='y');\n",
    "#print time to see the data frame\n"
   ]
  },
  {
   "cell_type": "markdown",
   "metadata": {},
   "source": [
    "As expected we have taken five time-points and used the formula to obtain corresponding five points in the postion column, and the graph shows where each points are located. Let us see what kind of plot we get if we use line plot instead of scatter. "
   ]
  },
  {
   "cell_type": "code",
   "execution_count": 9,
   "metadata": {},
   "outputs": [
    {
     "data": {
      "image/png": "[encoded data removed]",
      "text/plain": [
       "<Figure size 432x288 with 1 Axes>"
      ]
     },
     "metadata": {
      "needs_background": "light"
     },
     "output_type": "display_data"
    }
   ],
   "source": [
    "\n",
    "# line plot\n",
    "time = pd.DataFrame({'t':range(0,6)})\n",
    "time['y'] = 0 + 20 * time['t'] - 0.5* 9.8*time['t'] **2  \n",
    "time.plot(kind='line',x='t',y='y');\n"
   ]
  },
  {
   "cell_type": "markdown",
   "metadata": {},
   "source": [
    "You can see that the points are connected by a line, but the curve is not smooth. The question then is based on the above formula how can we get a smooth curve. The answer lies in the data points we take. Even if we want to plot the distance vs time, between zero to five seconds, we need as much points as possible to make the connection between the data point smooth enough. \n",
    "\n",
    "If we say the total time is plotted from 0 to $T$, as of now we have 5 points in this line (which is stretched from zero to T = 5 ), but now let us divide this line into $n$ many segements each length $\\delta t$, and consequently we have $\\delta t = T/N $. The smaller the segement the more smooth our curve becomes, this is so because $ N = T/\\delta t$. \n",
    "\n",
    "To achive this we use numpy's `linspace`, which returns evenly spaced numbers over a specified interval.\n",
    "\n",
    ">`numpy.linspace(start, stop, num=50, endpoint=True, retstep=False, dtype=None, axis=0)`  \n",
    "Returns **num** evenly spaced samples, calculated over the interval [start, stop].\n",
    "The endpoint of the interval can optionally be excluded.\n",
    "\n",
    "Now let us apply this method to our problem at hand and see what our motion diagram looks like now."
   ]
  },
  {
   "cell_type": "code",
   "execution_count": 10,
   "metadata": {},
   "outputs": [
    {
     "data": {
      "image/png": "[encoded data removed]",
      "text/plain": [
       "<Figure size 432x288 with 1 Axes>"
      ]
     },
     "metadata": {
      "needs_background": "light"
     },
     "output_type": "display_data"
    }
   ],
   "source": [
    "# using \\delta t = T/N\n",
    "time =10\n",
    "dt = 0.1;\n",
    "n = int(round(time/dt))\n",
    "t = np.linspace(0,5,n) # time axis with n-points\n",
    "\n",
    "y = 0+20*t-0.5*9.8*t**2 #here is our equation\n",
    "\n",
    "# Create the plot\n",
    "plt.plot(t, y,label='Position y in meters', color ='m')\n",
    "\n",
    "# Add a title\n",
    "plt.title('Position versus Time')\n",
    "\n",
    "\n",
    "# Add X and y Label\n",
    "plt.xlabel('t in sec')\n",
    "plt.ylabel('y in meters')\n",
    "\n",
    "# Add a grid\n",
    "plt.grid(alpha=.4,linestyle='--')\n",
    "\n",
    "# Add a Legend\n",
    "plt.legend()\n",
    "\n",
    "# Show the plot\n",
    "plt.show()"
   ]
  },
  {
   "cell_type": "markdown",
   "metadata": {},
   "source": [
    "From these graphs we can see that at t=5 sec, the distance is 22.5 m. Of course this is simple problem and one can arrive at the solution using easy plugging, but this approach is preferable when you have complicated and more variables. Moreover this is fun way to do it!"
   ]
  },
  {
   "cell_type": "markdown",
   "metadata": {},
   "source": [
    "We can also use motion diagrams when one the dependece relation of one variable on another variable is known as in the following **example**\n",
    "><span style=\"color:blue\">A particle moves along the x axis. Its position varies with time according to\n",
    "the expression $x =- 4t + 2t^2$ , where $x$ is in meters and $t$ is in seconds.</span>"
   ]
  },
  {
   "cell_type": "code",
   "execution_count": 11,
   "metadata": {},
   "outputs": [
    {
     "data": {
      "image/png": "[encoded data removed]",
      "text/plain": [
       "<Figure size 432x288 with 1 Axes>"
      ]
     },
     "metadata": {
      "needs_background": "light"
     },
     "output_type": "display_data"
    }
   ],
   "source": [
    "x=0\n",
    "\n",
    "\n",
    "time =10\n",
    "dt = 0.1;\n",
    "n = int(round(time/dt))\n",
    "t = np.linspace(0,4,n)\n",
    "# Create the vectors X and Y\n",
    "#t = np.array(range(0,5,n))\n",
    "# choses very few data so better make it smooth with ff \n",
    "x = x-4*t+2*t**2\n",
    "\n",
    "# Create the plot\n",
    "plt.plot(t, x,label='Position versus Time', color='c')\n",
    "\n",
    "\n",
    "\n",
    "# Add a title\n",
    "plt.title('Position versus Time')\n",
    "\n",
    "# Add limit\n",
    "#plt.xlim()\n",
    "plt.ylim(-2.1,10.1)\n",
    "\n",
    "# Add X and y Label\n",
    "plt.xlabel('t in sec')\n",
    "plt.ylabel('x meters')\n",
    "\n",
    "# Add a grid\n",
    "plt.grid(alpha=.4,linestyle='--')\n",
    "\n",
    "# Add a Legend\n",
    "plt.legend()\n",
    "\n",
    "# Show the plot\n",
    "plt.show()"
   ]
  },
  {
   "cell_type": "markdown",
   "metadata": {},
   "source": [
    "Because the position of the particle is given by a mathematical function, the motion of the particle is completely known. One can see from the position–time graph that the particle moves in the negative \n",
    "x direction for the first second of motion, is momentarily at rest at the moment t = 1 s, and moves in the positive x direction at times t > 1 s.\n",
    "\n",
    "Actually we can use python's symbolic library and obtain the speed and acceleration of the particle as follows, recall velocity is the derivative of position; acceleration inturn is the derivative of velocity. The first thing we need to. do is tell python to symbolize time, and based on that we call the `diff()` function for differentiating x with respect time to get velocity; and then velocty with respect time to get acceleration. Here is how you. will do. it."
   ]
  },
  {
   "cell_type": "code",
   "execution_count": 12,
   "metadata": {},
   "outputs": [
    {
     "name": "stdout",
     "output_type": "stream",
     "text": [
      "The positon is: 2*t**2 - 4*t\n",
      "The speed  is: 4*t - 4\n",
      "The acceleration  is: 4\n"
     ]
    }
   ],
   "source": [
    "\n",
    "t = Symbol('t')\n",
    "x = -4*t+2*t**2\n",
    "v=x.diff(t) # dx/dt\n",
    "a = v.diff(t)# dv/dt\n",
    "print(f\"The positon is: {x}\")\n",
    "print(f\"The speed  is: {v}\")\n",
    "print(f\"The acceleration  is: {a}\")\n"
   ]
  },
  {
   "cell_type": "markdown",
   "metadata": {},
   "source": [
    "We can also visualize  these results as follows, <span style=\"color:blue\">**blue curve is position**</span>,\n",
    "<span style=\"color:red\">**red curve is speed**</span>, and <span style=\"color:green\">**green curve is acceleration**</span>"
   ]
  },
  {
   "cell_type": "code",
   "execution_count": 13,
   "metadata": {},
   "outputs": [
    {
     "data": {
      "image/png": "[encoded data removed]",
      "text/plain": [
       "<Figure size 432x288 with 1 Axes>"
      ]
     },
     "metadata": {
      "needs_background": "light"
     },
     "output_type": "display_data"
    }
   ],
   "source": [
    "\n",
    "\n",
    "p = plot(x, v, a, (t, 0, 3.6), show=false)\n",
    "#change the color of p's\n",
    "p[0].line_color = 'b' # x\n",
    "p[1].line_color = 'r' # v\n",
    "p[2].line_color = 'g' # a\n",
    "\n",
    "p.show()\n"
   ]
  },
  {
   "cell_type": "markdown",
   "metadata": {},
   "source": [
    "Ontop of providing a clearer picture of the situation at hand, motion diagram also help us answer questions like the following **example** without having to solve them by hand.\n",
    "  \n",
    "><span style=\"color:blue\">Car A starts from rest and has an acceleration of $5.6 m/s^2$. Another car Car B starts at the other end of a track such that it is $2000$ meters away from Car A and driving towards car A. Car B starts with a velocity of $42 m/s$ and has an acceleration of $2.4 m/s^2$. Where and when do the two cars meet.</span>\n"
   ]
  },
  {
   "cell_type": "markdown",
   "metadata": {},
   "source": [
    "To begin with let us solve the equation analytically. To thsi end we assume they met at postion $x$ from car A's starting point, which means $2000-x$ away from car B's starting position. The distance for both cars respectively can be calculated using:\n",
    "\n",
    "Car A: $x= (0m/s)t + \\frac{1}{2}(5.6)(m/s^2)t^2(s^2)$\n",
    "\n",
    "Car B: $2000-x= (-42m/s)t + \\frac{1}{2}(2.4)(m/s^2)t^2(s^2)$\n",
    "\n",
    "Equating both equations and rearranging like terms reduces the pair of equations into the following quadratic equation: $4.0 t^2 -42t-2000=0$. Now we can solve this equation using the quadratic formula, or we can feed the formula as a code for our computer to solve it. For this post we chose the later, and we can write the code as follows\n"
   ]
  },
  {
   "cell_type": "code",
   "execution_count": 14,
   "metadata": {},
   "outputs": [
    {
     "name": "stdout",
     "output_type": "stream",
     "text": [
      "-17.71872874148676\n",
      "28.21872874148676\n"
     ]
    }
   ],
   "source": [
    "\n",
    "# Use cmath instead of math if you are working with complex numbers\n",
    "#import cmath\n",
    "\n",
    "a = 4\n",
    "b = -42\n",
    "c = -2000\n",
    "d = (b**2) - (4*a*c)\n",
    "root1 = (-b-sqrt(d))/(2*a)\n",
    "root2 = (-b+sqrt(d))/(2*a)\n",
    "print(root1)\n",
    "print(root2)\n"
   ]
  },
  {
   "cell_type": "markdown",
   "metadata": {},
   "source": [
    "Looking at the times we can chose to ignore the negative time since we take $t = 0$ as our initial time, based on this information we conclude they meet around $t=28$ seconds.  \n",
    "\n",
    "Now let me use motion diagram to see if we can arrive at a similar solution. All we need to do here is just plot the distance versus time graph, for both cars, and see if they interesect; and if they do at what time? "
   ]
  },
  {
   "cell_type": "code",
   "execution_count": 15,
   "metadata": {},
   "outputs": [
    {
     "data": {
      "image/png": "[encoded data removed]",
      "text/plain": [
       "<Figure size 432x288 with 1 Axes>"
      ]
     },
     "metadata": {
      "needs_background": "light"
     },
     "output_type": "display_data"
    }
   ],
   "source": [
    "\n",
    "# informations we gathered from the question \n",
    "xA=0\n",
    "xB=2000\n",
    "vA=0\n",
    "vB=-42\n",
    "aA=5.6\n",
    "aB=2.4\n",
    "\n",
    "# calculate distance traveled by Car A and Car B respectively\n",
    "time=10\n",
    "dt = 0.1;\n",
    "n = int(round(time/dt))\n",
    "t = np.linspace(0,40,n)\n",
    "xA = xA  + vA*t+0.5*aA *t**2\n",
    "xB = xB + vB*t+0.5*aB *t**2\n",
    "# Create the plot\n",
    "plt.plot(t, xA,label='CarA', color='r')\n",
    "plt.plot(t, xB,label='CarB', color ='b')\n",
    "\n",
    "\n",
    "# Add a title\n",
    "plt.title('Distance of CarA and CarB')\n",
    "\n",
    "# Add X and y Label\n",
    "plt.xlabel('time in seconds')\n",
    "plt.ylabel('distance in meters')\n",
    "\n",
    "\n",
    "# Add a grid\n",
    "plt.grid(alpha=.4,linestyle='--')\n",
    "\n",
    "# Add a Legend\n",
    "plt.legend()\n",
    "\n",
    "# Show the plot\n",
    "plt.show()"
   ]
  },
  {
   "cell_type": "markdown",
   "metadata": {},
   "source": [
    "Great! we see that CarA starts from zero, while CarB starts 2000m away, after some time (approximately around 25 sec-- by looking at it) they meet,and then depart again. But our eye might be decieving us so, it will be helpful to look for a way that pinpoints the exact meeting point. I found a way to do this in a [stackoverflow](https://stackoverflow.com/questions/28766692/intersection-of-two-graphs-in-python-find-the-x-value) discussion. Of the suggestion provided, I found the **Shapely** package relevant for our case. So what is it?"
   ]
  },
  {
   "cell_type": "markdown",
   "metadata": {},
   "source": [
    "**Shapely** is a Python package for set-theoretic analysis and manipulation of planar features for geometry-related computations. We are going to make use of this library to obtain the intersection point/s. To this end, all we need to do is construct `LineString` from each line and get their intersection using the code given below. But if you are wondering what is `LineString`?\n",
    ">`class LineString(coordinates)`\n",
    "The LineString constructor takes an ordered sequence of 2 or more (x, y[, z]) point tuples.\n",
    "\n",
    "Check for the discussions in [stackoverflow](https://stackoverflow.com/questions/28766692/intersection-of-two-graphs-in-python-find-the-x-value) as there are other interseting methods listed in there too for you to check them out.\n",
    ">`object.intersection(other)`\n",
    "Returns a representation of the intersection of this object with the other geometric object.\n",
    "\n",
    "Here is the snippet of the code, that we use to get the intersection point or points, we will include it into our code and pinpoint the exact intersection point. What this code does is take points in the lines (of CarA and CarB) then form a LineString. Next look for intersection and plot it.\n",
    "\n",
    "```python\n",
    "first_line = LineString(np.column_stack((t, xA)))\n",
    "second_line = LineString(np.column_stack((t, xB)))\n",
    "intersection = first_line.intersection(second_line)\n",
    "\n",
    "if intersection.geom_type == 'MultiPoint':\n",
    "    plt.plot(*LineString(intersection).xy, 'o')\n",
    "elif intersection.geom_type == 'Point':\n",
    "    plt.plot(*intersection.xy, 'o')\n",
    "```\n"
   ]
  },
  {
   "cell_type": "code",
   "execution_count": 16,
   "metadata": {},
   "outputs": [
    {
     "data": {
      "image/png": "[encoded data removed]",
      "text/plain": [
       "<Figure size 432x288 with 1 Axes>"
      ]
     },
     "metadata": {
      "needs_background": "light"
     },
     "output_type": "display_data"
    }
   ],
   "source": [
    "\n",
    "# informations we gathered from the question \n",
    "xA=0\n",
    "xB=2000\n",
    "vA=0\n",
    "vB=-42\n",
    "aA=5.6\n",
    "aB=2.4\n",
    "\n",
    "\n",
    "time=10\n",
    "dt = 0.1;\n",
    "n = int(round(time/dt))\n",
    "t = np.linspace(0,40,n)\n",
    "xA = xA  + vA*t+0.5*aA *t**2\n",
    "xB = xB + vB*t+0.5*aB *(t)**2\n",
    "# Create the plot\n",
    "plt.plot(t, xA,label='CarA', color='r')\n",
    "plt.plot(t,xB,label='CarB', color='b')\n",
    "\n",
    "\n",
    "# Add a title\n",
    "plt.title('Distance of CarA and CarB')\n",
    "\n",
    "# Add X and y Label\n",
    "plt.xlabel('time in seconds')\n",
    "plt.ylabel('distance in meters')\n",
    "\n",
    "# Add a grid\n",
    "plt.grid(alpha=.4,linestyle='--')\n",
    "\n",
    "# Add a Legend\n",
    "plt.legend()\n",
    "\n",
    "# Show the plot\n",
    "\n",
    "#To show intersection\n",
    "first_line = LineString(np.column_stack((t, xA)))\n",
    "second_line = LineString(np.column_stack((t, xB)))\n",
    "intersection = first_line.intersection(second_line)\n",
    "\n",
    "if intersection.geom_type == 'MultiPoint':\n",
    "    plt.plot(*LineString(intersection).xy, 'o', color = 'black')\n",
    "elif intersection.geom_type == 'Point':\n",
    "    plt.plot(*intersection.xy, 'o', color = 'black')\n",
    "plt.show()"
   ]
  },
  {
   "cell_type": "markdown",
   "metadata": {},
   "source": [
    "Nice! The dot at the intersection of the curves indicates that we are able to pin point the exact point. But still we need to print the result. To do so we can readily use the following line of code"
   ]
  },
  {
   "cell_type": "code",
   "execution_count": 17,
   "metadata": {},
   "outputs": [
    {
     "name": "stdout",
     "output_type": "stream",
     "text": [
      "array('d', [24.587667975333915]) array('d', [1692.8064038129573])\n"
     ]
    }
   ],
   "source": [
    "xA, xB = intersection.xy # use this if it is single point\n",
    "#xA, xB = LineString(intersection).xy\n",
    "print(xA,xB)"
   ]
  },
  {
   "cell_type": "markdown",
   "metadata": {},
   "source": [
    "The intersection time is thus about 24.6 seconds; and the meeting distance is 1692.8 meters. You can see it is off by few seconds from the analytical result, but that is . We may need to check our margin of error."
   ]
  },
  {
   "cell_type": "markdown",
   "metadata": {},
   "source": [
    "Let add another **example** and employ the above method:\n",
    "><span style=\"color:blue\">A car traveling at a constant speed of 45.0 m/s passes a trooper on a motorcycle hidden behind a billboard. One second after the speeding car passes the billboard, the trooper sets out from the billboard to catch the car, accelerating at a constant rate of 3.00 m/s . How long does it take the trooper to overtake the car?</span>\n",
    "\n",
    "> Car: $xC = 45 t$  \n",
    "  Tropper: $xT = 0.5*3.0(t-1)^2$ \n",
    "  \n",
    "When trooper overtakes the car, the distance covered by the trooper and car. will be the same,  i.e $xC=xT$, and noting that the trooper began her journey a second later, the equations of motion takes the form: $t^2-32t+1=0$"
   ]
  },
  {
   "cell_type": "code",
   "execution_count": 18,
   "metadata": {},
   "outputs": [
    {
     "name": "stdout",
     "output_type": "stream",
     "text": [
      "0.03128057732868861\n",
      "31.968719422671313\n"
     ]
    }
   ],
   "source": [
    "a1 = 1\n",
    "b1 = -32\n",
    "c1 = 1\n",
    "d1 = (b1**2) - (4*a1*c1)\n",
    "rootC = (-b1-sqrt(d1))/(2*a1)\n",
    "rootT = (-b1+sqrt(d1))/(2*a1)\n",
    "print(rootC)\n",
    "print(rootT)"
   ]
  },
  {
   "cell_type": "markdown",
   "metadata": {},
   "source": [
    "Again, here also, we have two time outputs, and we note that the first result is when they first met at the billboard and the second is the time we are interested in, and that says trooper overtakes the car around 31.9 seconds. Let us now see if we can reproduce these result using motion diagram."
   ]
  },
  {
   "cell_type": "code",
   "execution_count": 19,
   "metadata": {},
   "outputs": [
    {
     "data": {
      "image/png": "[encoded data removed]",
      "text/plain": [
       "<Figure size 432x288 with 1 Axes>"
      ]
     },
     "metadata": {
      "needs_background": "light"
     },
     "output_type": "display_data"
    }
   ],
   "source": [
    "#Given\n",
    "xC=45\n",
    "xT=0\n",
    "vC=45\n",
    "vT=0\n",
    "aC=0\n",
    "aT=3\n",
    "\n",
    "\n",
    "dt = 0.1;#0.00001\n",
    "n = int(round(time/dt))\n",
    "t = np.linspace(0,40,n)\n",
    "xC = xC  + vC*t+0.5*aC *t**2\n",
    "xT = xT + vT*t+0.5*aT *t**2\n",
    "# Create the plot\n",
    "plt.plot(t, xC,label='Car', color='b')\n",
    "plt.plot(t,xT,label='Tropper', color='r')\n",
    "\n",
    "\n",
    "# Add a title\n",
    "plt.title('Distance of Car and Tropper')\n",
    "\n",
    "# Add X and y Label\n",
    "plt.xlabel('t in s')\n",
    "plt.ylabel('distance in meters')\n",
    "\n",
    "# Add limit\n",
    "#plt.xlim(-1,32)\n",
    "#plt.ylim(0,1600)\n",
    "\n",
    "# Add a grid\n",
    "plt.grid(alpha=.4,linestyle='--')\n",
    "\n",
    "# Add a Legend\n",
    "plt.legend()\n",
    "\n",
    "# Show the plot\n",
    "\n",
    "#To show intersection\n",
    "first_line = LineString(np.column_stack((t, xC)))\n",
    "second_line = LineString(np.column_stack((t, xT)))\n",
    "intersection = first_line.intersection(second_line)\n",
    "\n",
    "if intersection.geom_type == 'MultiPoint':\n",
    "    plt.plot(*LineString(intersection).xy, 'o', color = 'black')\n",
    "elif intersection.geom_type == 'Point':\n",
    "    plt.plot(*intersection.xy, 'o', color = 'black')\n",
    "plt.show()"
   ]
  },
  {
   "cell_type": "markdown",
   "metadata": {},
   "source": [
    "We can see that we the interesection point is a bit pass 30 seconds, we used our Shapley library to pinpoint the intersection time."
   ]
  },
  {
   "cell_type": "markdown",
   "metadata": {},
   "source": [
    "Thanks to the Shapely library for geometry-related computations, getting the \n",
    "intersection will be much easier. You just have to construct `LineString` from \n",
    "each line and get their intersection as follows:"
   ]
  },
  {
   "cell_type": "code",
   "execution_count": 20,
   "metadata": {},
   "outputs": [
    {
     "name": "stdout",
     "output_type": "stream",
     "text": [
      "array('d', [30.967548500881836]) array('d', [1438.5396825396826])\n"
     ]
    }
   ],
   "source": [
    "xC, xT = intersection.xy # use this if it is single point\n",
    "#x, y = LineString(intersection).xy\n",
    "print(xC,xT)"
   ]
  },
  {
   "cell_type": "markdown",
   "metadata": {},
   "source": [
    "Excellent! This actually is close enough to the analytical result we have obtained.\n",
    "\n",
    "To conclude we have seen how to use python to plot motion diagrams and solve our problems, we also have managed to get an intersection point of the curves."
   ]
  }
 ],
 "metadata": {
  "kernelspec": {
   "display_name": "Python 3",
   "language": "python",
   "name": "python3"
  },
  "language_info": {
   "codemirror_mode": {
    "name": "ipython",
    "version": 3
   },
   "file_extension": ".py",
   "mimetype": "text/x-python",
   "name": "python",
   "nbconvert_exporter": "python",
   "pygments_lexer": "ipython3",
   "version": "3.7.6"
  }
 },
 "nbformat": 4,
 "nbformat_minor": 4
}
