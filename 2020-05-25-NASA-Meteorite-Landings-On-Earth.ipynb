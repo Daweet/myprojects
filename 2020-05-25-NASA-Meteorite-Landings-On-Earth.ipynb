{
 "cells": [
  {
   "cell_type": "markdown",
   "metadata": {},
   "source": [
    "# NASA Earth Meteorite Landings\n",
    "\n",
    "This post shows you how to merge geographic map (which we get from from json file format) and data points (in this case meteorite landings) into a single map and visualize the data.\n",
    "\n",
    "We will use the URL from NASA's Open Data Portal API from [NASA](\"https://data.nasa.gov/resource/y77d-th95.json\"), it is a comprehensive data set from The Meteoritical Society. The dataset contains information on all of the known meteorite landings. For the sake of this tutorial we will request data and import it as JSON. Our target is to extract the following features from that data to create a dataframe and then map the points to visualize the locations of the landings. The columns we are interested are listed below:\n",
    "\n",
    "    -ID\n",
    "    -Year\n",
    "    -Fall\n",
    "    -Name\n",
    "    -Name Type\n",
    "    -Mass\n",
    "    -Latitude\n",
    "    -Longitude\n",
    "    \n",
    "As usual let us import all the necessary libraries that we are going to use."
   ]
  },
  {
   "cell_type": "code",
   "execution_count": 1,
   "metadata": {},
   "outputs": [],
   "source": [
    "import pandas as pd\n",
    "import geopandas as gpd #used for transforming geolocation data\n",
    "import matplotlib.pyplot as plt\n",
    "\n",
    "from datetime import datetime  #to convert data to datetime that does not fall \n",
    "#within the pandas.to_datetime function timeframe\n",
    "from shapely.geometry import Point  #transform latitude/longitude to geo-coordinate data\n",
    "from geopandas.tools import geocode #get the latitude/longitude for a given address\n",
    "from geopandas.tools import reverse_geocode  #get the address for a location using latitude/longitude\n",
    "\n",
    "import requests  #similar to urllib, this library allows a computer to ping a website\n",
    "import json      #library to handle JSON formatted data\n",
    "%matplotlib inline"
   ]
  },
  {
   "cell_type": "markdown",
   "metadata": {},
   "source": [
    "The url we are accessing needs no authentication. When accesing APIs it is better to check if we need authentication keys or not. Besides that, it is also worth cheking the sharing protocol for each websites. Next we use requests library to request the url."
   ]
  },
  {
   "cell_type": "code",
   "execution_count": 2,
   "metadata": {},
   "outputs": [],
   "source": [
    "\n",
    "#URL to NASA meteorite API\n",
    "url = r\"https://data.nasa.gov/resource/y77d-th95.json\"\n"
   ]
  },
  {
   "cell_type": "code",
   "execution_count": 3,
   "metadata": {},
   "outputs": [
    {
     "data": {
      "text/plain": [
       "<Response [200]>"
      ]
     },
     "execution_count": 3,
     "metadata": {},
     "output_type": "execute_result"
    }
   ],
   "source": [
    "#the get function checks to make sure that the website/server is responding back\n",
    "#200 means that we're good\n",
    "#https://www.restapitutorial.com/httpstatuscodes.html\n",
    "resp = requests.get(url)\n",
    "resp"
   ]
  },
  {
   "cell_type": "markdown",
   "metadata": {},
   "source": [
    "We can check the response status code using the above code line, for further information you can check the [website]('https://www.restapitutorial.com/httpstatuscodes.html'). Once we get the `<Response [200]>` we can go ahead and check if we really are accessing the site by printing it out. As it can be a large output, it is advisable to limit the content if possible. "
   ]
  },
  {
   "cell_type": "code",
   "execution_count": 4,
   "metadata": {},
   "outputs": [
    {
     "data": {
      "text/plain": [
       "'[{\"name\":\"Aachen\",\"id\":\"1\",\"nametype\":\"Valid\",\"recclass\":\"L5\",\"mass\":\"21\",\"fall\":\"Fell\",\"year\":\"1880-01-01T00:00:00.000\",\"reclat\":\"50.775000\",\"reclong\":\"6.083330\",\"geolocation\":{\"type\":\"Point\",\"coordinates\":[6.08333,50.775]}}\\n,{\"name\":\"Aarhus\",\"id\":\"2\",\"nametype\":\"Valid\",\"recclass\":\"H6\",\"mass\":\"720\",\"fall\":\"Fell\",\"year\":\"1951-01-01T00:00:00.000\",\"reclat\":\"56.183330\",\"reclong\":\"10.233330\",\"geolocation\":{\"type\":\"Point\",\"coordinates\":[10.23333,56.18333]}}\\n,{\"name\":\"Abee\",\"id\":\"6\",\"nametype\":\"Valid\",\"recclass\":\"EH4\",\"mass\":\"107000\",\"fall\":\"Fell\",\"year\":\"1952-01-01T00:00:00.000\",\"reclat\":\"54.216670\",\"reclong\":\"-113.000000\",\"geolocation\":{\"type\":\"Point\",\"coordinates\":[-113,54.21667]}}\\n,{\"name\":\"Acapulco\",\"id\":\"10\",\"nametype\":\"Valid\",\"recclass\":\"Acapulcoite\",\"mass\":\"1914\",\"fall\":\"Fell\",\"year\":\"1976-01-01T00:00:00.000\",\"reclat\":\"16.883330\",\"reclong\":\"-99.900000\",\"geolocation\":{\"type\":\"Point\",\"coordinates\":[-99.9,16.88333]}}\\n,{\"name\":\"Achiras\",\"id\":\"370\",\"nametype\":\"Valid\",\"recclass\":\"L6\",\"mass\":\"780\",\"fall\":\"Fell\",\"year\":\"1902-01-01T00:00:00.000\",\"reclat\":\"-33.166670\",\"reclong\":\"-64.950000\",\"geolocation\":{\"type\":\"Point\",\"coordinates\":[-64.95,-33.16667]}}\\n,{\"name\":\"Adhi Kot\",\"id\":\"379\",\"nametype\":\"Valid\",\"recclass\":\"EH4\",\"mass\":\"4239\",\"fall\":\"Fell\",\"year\":\"1919-01-01T00:00:00.000\",\"reclat\":\"32.100000\",\"reclong\":\"71.800000\",\"geolocation\":{\"type\":\"Point\",\"coordinates\":[71.8,32.1]}}\\n,{\"name\":\"Adzhi-Bogdo (stone)\",\"id\":\"390\",\"nametype\":\"Valid\",\"recclass\":\"LL3-6\",\"mass\":\"910\",\"fall\":\"Fell\"'"
      ]
     },
     "execution_count": 4,
     "metadata": {},
     "output_type": "execute_result"
    }
   ],
   "source": [
    "#send a request to the website to return back text data from the API\n",
    "#returns data as JSON string\n",
    "str_data = resp.text\n",
    "str_data[:1500]"
   ]
  },
  {
   "cell_type": "markdown",
   "metadata": {},
   "source": [
    "We need to decode the json file and that can be achieved as follows"
   ]
  },
  {
   "cell_type": "code",
   "execution_count": 5,
   "metadata": {
    "scrolled": false
   },
   "outputs": [],
   "source": [
    "#loads function reversed dictionary order\n",
    "#dictionary objects are unordered in general\n",
    "NASAdata = json.loads(str_data)\n",
    "#NASAdata"
   ]
  },
  {
   "cell_type": "markdown",
   "metadata": {},
   "source": [
    "It is also better to verify that JSON object is list and check its length,  this is done by\n",
    "\n",
    "```Python\n",
    "type(NASAdata)\n",
    "len(NASAdata)```\n",
    "\n",
    "To help us navigate through the tree, we keep asking the types until we reach the end of the hierarchical line."
   ]
  },
  {
   "cell_type": "code",
   "execution_count": 6,
   "metadata": {},
   "outputs": [
    {
     "data": {
      "text/plain": [
       "{'name': 'Aachen',\n",
       " 'id': '1',\n",
       " 'nametype': 'Valid',\n",
       " 'recclass': 'L5',\n",
       " 'mass': '21',\n",
       " 'fall': 'Fell',\n",
       " 'year': '1880-01-01T00:00:00.000',\n",
       " 'reclat': '50.775000',\n",
       " 'reclong': '6.083330',\n",
       " 'geolocation': {'type': 'Point', 'coordinates': [6.08333, 50.775]}}"
      ]
     },
     "execution_count": 6,
     "metadata": {},
     "output_type": "execute_result"
    }
   ],
   "source": [
    "#first level keys in JSON object\n",
    "NASAdata[0]"
   ]
  },
  {
   "cell_type": "code",
   "execution_count": 7,
   "metadata": {},
   "outputs": [
    {
     "data": {
      "text/plain": [
       "{'type': 'Point', 'coordinates': [6.08333, 50.775]}"
      ]
     },
     "execution_count": 7,
     "metadata": {},
     "output_type": "execute_result"
    }
   ],
   "source": [
    "\n",
    "#dict['key']['key'][index]\n",
    "#dictionary name, dictionary key, dictionary key, then list index\n",
    "NASAdata[0]['geolocation']\n"
   ]
  },
  {
   "cell_type": "code",
   "execution_count": 8,
   "metadata": {},
   "outputs": [
    {
     "data": {
      "text/plain": [
       "dict"
      ]
     },
     "execution_count": 8,
     "metadata": {},
     "output_type": "execute_result"
    }
   ],
   "source": [
    "type(NASAdata[0]['geolocation'])"
   ]
  },
  {
   "cell_type": "code",
   "execution_count": 9,
   "metadata": {},
   "outputs": [
    {
     "data": {
      "text/plain": [
       "dict_keys(['type', 'coordinates'])"
      ]
     },
     "execution_count": 9,
     "metadata": {},
     "output_type": "execute_result"
    }
   ],
   "source": [
    "NASAdata[0]['geolocation'].keys()"
   ]
  },
  {
   "cell_type": "code",
   "execution_count": 10,
   "metadata": {},
   "outputs": [
    {
     "data": {
      "text/plain": [
       "'Point'"
      ]
     },
     "execution_count": 10,
     "metadata": {},
     "output_type": "execute_result"
    }
   ],
   "source": [
    "\n",
    "#dict['key']['key'][index]\n",
    "#dictionary name, dictionary key, dictionary key, then list index\n",
    "NASAdata[0]['geolocation']['type']\n"
   ]
  },
  {
   "cell_type": "code",
   "execution_count": 11,
   "metadata": {},
   "outputs": [
    {
     "data": {
      "text/plain": [
       "str"
      ]
     },
     "execution_count": 11,
     "metadata": {},
     "output_type": "execute_result"
    }
   ],
   "source": [
    "\n",
    "type(NASAdata[0]['geolocation']['type'])\n"
   ]
  },
  {
   "cell_type": "code",
   "execution_count": 12,
   "metadata": {},
   "outputs": [
    {
     "data": {
      "text/plain": [
       "[6.08333, 50.775]"
      ]
     },
     "execution_count": 12,
     "metadata": {},
     "output_type": "execute_result"
    }
   ],
   "source": [
    "\n",
    "#dict['key']['key'][index]\n",
    "#dictionary name, dictionary key, dictionary key, then list index\n",
    "NASAdata[0]['geolocation']['coordinates']\n"
   ]
  },
  {
   "cell_type": "code",
   "execution_count": 13,
   "metadata": {},
   "outputs": [
    {
     "data": {
      "text/plain": [
       "list"
      ]
     },
     "execution_count": 13,
     "metadata": {},
     "output_type": "execute_result"
    }
   ],
   "source": [
    "type(NASAdata[0]['geolocation']['coordinates'])"
   ]
  },
  {
   "cell_type": "code",
   "execution_count": 14,
   "metadata": {},
   "outputs": [
    {
     "data": {
      "text/plain": [
       "2"
      ]
     },
     "execution_count": 14,
     "metadata": {},
     "output_type": "execute_result"
    }
   ],
   "source": [
    "len(NASAdata[0]['geolocation']['coordinates'])"
   ]
  },
  {
   "cell_type": "code",
   "execution_count": 15,
   "metadata": {},
   "outputs": [
    {
     "data": {
      "text/plain": [
       "6.08333"
      ]
     },
     "execution_count": 15,
     "metadata": {},
     "output_type": "execute_result"
    }
   ],
   "source": [
    "NASAdata[0]['geolocation']['coordinates'][0]"
   ]
  },
  {
   "cell_type": "markdown",
   "metadata": {},
   "source": [
    "Let us now create an empyt list where we will put the retrivied information. We use the notation **namels**, where name is the name of the column and *ls* indicate that we are creating new list."
   ]
  },
  {
   "cell_type": "code",
   "execution_count": 16,
   "metadata": {},
   "outputs": [],
   "source": [
    "idmls = []\n",
    "yearls = []\n",
    "fallls = []\n",
    "namels = [] \n",
    "nametypels = []\n",
    "massls = []\n",
    "latitudels = []\n",
    "longitudels = []"
   ]
  },
  {
   "cell_type": "code",
   "execution_count": 17,
   "metadata": {},
   "outputs": [],
   "source": [
    "#extract the values for the meteore dataset\n",
    "\n",
    "for meteor in NASAdata:\n",
    "      \n",
    "    #get the value of each key and if the key doesn't exist, set a variable to be None\n",
    "    try: idm = meteor['id']\n",
    "    except: idm = None\n",
    "            \n",
    "    try: year = meteor['year']\n",
    "    except: year = None\n",
    "            \n",
    "    try: fall = meteor['fall']\n",
    "    except: fall = None\n",
    "        \n",
    "    try: name = meteor['name']\n",
    "    except: name = None\n",
    "            \n",
    "    try: nametype = meteor['nametype']\n",
    "    except: nametype = None\n",
    "            \n",
    "    try: mass = meteor['mass']\n",
    "    except: mass = None\n",
    "            \n",
    "    try: latitude =meteor['geolocation']['coordinates'][1]\n",
    "    except: latitude = None\n",
    "            \n",
    "    try: longitude = meteor['geolocation']['coordinates'][0]\n",
    "    except: longitude = None\n",
    "            \n",
    "    \n",
    "    idmls.append(idm)\n",
    "    yearls.append(year)\n",
    "    fallls.append(fall)\n",
    "    namels.append(name)  \n",
    "    nametypels.append(nametype)\n",
    "    massls.append(mass) \n",
    "    latitudels.append(latitude)\n",
    "    longitudels.append(longitude) "
   ]
  },
  {
   "cell_type": "code",
   "execution_count": 18,
   "metadata": {},
   "outputs": [
    {
     "name": "stdout",
     "output_type": "stream",
     "text": [
      "['1', '2', '6', '10', '370']\n",
      "['1880-01-01T00:00:00.000', '1951-01-01T00:00:00.000', '1952-01-01T00:00:00.000', '1976-01-01T00:00:00.000', '1902-01-01T00:00:00.000']\n",
      "['Fell', 'Fell', 'Fell', 'Fell', 'Fell']\n",
      "['Aachen', 'Aarhus', 'Abee', 'Acapulco', 'Achiras']\n",
      "['Valid', 'Valid', 'Valid', 'Valid', 'Valid']\n",
      "['21', '720', '107000', '1914', '780']\n"
     ]
    }
   ],
   "source": [
    "#check to see first 5 items of a few lists\n",
    "print(idmls[:5])\n",
    "print(yearls[:5])\n",
    "print(fallls[:5])\n",
    "print(namels[:5])\n",
    "print(nametypels[:5])\n",
    "print(massls[:5])"
   ]
  },
  {
   "cell_type": "code",
   "execution_count": 19,
   "metadata": {},
   "outputs": [
    {
     "name": "stdout",
     "output_type": "stream",
     "text": [
      "1000\n",
      "1000\n",
      "1000\n",
      "1000\n",
      "1000\n",
      "1000\n",
      "1000\n",
      "1000\n"
     ]
    }
   ],
   "source": [
    "#check number of items in each list\n",
    "print(len(idmls))\n",
    "print(len(yearls))\n",
    "print(len(fallls))\n",
    "print(len(namels))\n",
    "print(len(nametypels))\n",
    "print(len(massls))\n",
    "print(len(latitudels))\n",
    "print(len(longitudels))\n"
   ]
  },
  {
   "cell_type": "code",
   "execution_count": 20,
   "metadata": {},
   "outputs": [],
   "source": [
    "#match indices of each list and zip into one list\n",
    "meteorList = list(zip(idmls, yearls, fallls, namels, \n",
    "                    nametypels, massls, latitudels, longitudels))\n",
    "\n",
    "#names for columns in data frame\n",
    "colnames = ['id', 'year', 'fall','name', 'nametype', 'mass', 'latitude', 'longitude']"
   ]
  },
  {
   "cell_type": "code",
   "execution_count": 21,
   "metadata": {},
   "outputs": [
    {
     "data": {
      "text/html": [
       "<div>\n",
       "<style scoped>\n",
       "    .dataframe tbody tr th:only-of-type {\n",
       "        vertical-align: middle;\n",
       "    }\n",
       "\n",
       "    .dataframe tbody tr th {\n",
       "        vertical-align: top;\n",
       "    }\n",
       "\n",
       "    .dataframe thead th {\n",
       "        text-align: right;\n",
       "    }\n",
       "</style>\n",
       "<table border=\"1\" class=\"dataframe\">\n",
       "  <thead>\n",
       "    <tr style=\"text-align: right;\">\n",
       "      <th></th>\n",
       "      <th>id</th>\n",
       "      <th>year</th>\n",
       "      <th>fall</th>\n",
       "      <th>name</th>\n",
       "      <th>nametype</th>\n",
       "      <th>mass</th>\n",
       "      <th>latitude</th>\n",
       "      <th>longitude</th>\n",
       "    </tr>\n",
       "  </thead>\n",
       "  <tbody>\n",
       "    <tr>\n",
       "      <th>0</th>\n",
       "      <td>1</td>\n",
       "      <td>1880-01-01T00:00:00.000</td>\n",
       "      <td>Fell</td>\n",
       "      <td>Aachen</td>\n",
       "      <td>Valid</td>\n",
       "      <td>21</td>\n",
       "      <td>50.77500</td>\n",
       "      <td>6.08333</td>\n",
       "    </tr>\n",
       "    <tr>\n",
       "      <th>1</th>\n",
       "      <td>2</td>\n",
       "      <td>1951-01-01T00:00:00.000</td>\n",
       "      <td>Fell</td>\n",
       "      <td>Aarhus</td>\n",
       "      <td>Valid</td>\n",
       "      <td>720</td>\n",
       "      <td>56.18333</td>\n",
       "      <td>10.23333</td>\n",
       "    </tr>\n",
       "    <tr>\n",
       "      <th>2</th>\n",
       "      <td>6</td>\n",
       "      <td>1952-01-01T00:00:00.000</td>\n",
       "      <td>Fell</td>\n",
       "      <td>Abee</td>\n",
       "      <td>Valid</td>\n",
       "      <td>107000</td>\n",
       "      <td>54.21667</td>\n",
       "      <td>-113.00000</td>\n",
       "    </tr>\n",
       "    <tr>\n",
       "      <th>3</th>\n",
       "      <td>10</td>\n",
       "      <td>1976-01-01T00:00:00.000</td>\n",
       "      <td>Fell</td>\n",
       "      <td>Acapulco</td>\n",
       "      <td>Valid</td>\n",
       "      <td>1914</td>\n",
       "      <td>16.88333</td>\n",
       "      <td>-99.90000</td>\n",
       "    </tr>\n",
       "    <tr>\n",
       "      <th>4</th>\n",
       "      <td>370</td>\n",
       "      <td>1902-01-01T00:00:00.000</td>\n",
       "      <td>Fell</td>\n",
       "      <td>Achiras</td>\n",
       "      <td>Valid</td>\n",
       "      <td>780</td>\n",
       "      <td>-33.16667</td>\n",
       "      <td>-64.95000</td>\n",
       "    </tr>\n",
       "    <tr>\n",
       "      <th>5</th>\n",
       "      <td>379</td>\n",
       "      <td>1919-01-01T00:00:00.000</td>\n",
       "      <td>Fell</td>\n",
       "      <td>Adhi Kot</td>\n",
       "      <td>Valid</td>\n",
       "      <td>4239</td>\n",
       "      <td>32.10000</td>\n",
       "      <td>71.80000</td>\n",
       "    </tr>\n",
       "    <tr>\n",
       "      <th>6</th>\n",
       "      <td>390</td>\n",
       "      <td>1949-01-01T00:00:00.000</td>\n",
       "      <td>Fell</td>\n",
       "      <td>Adzhi-Bogdo (stone)</td>\n",
       "      <td>Valid</td>\n",
       "      <td>910</td>\n",
       "      <td>44.83333</td>\n",
       "      <td>95.16667</td>\n",
       "    </tr>\n",
       "    <tr>\n",
       "      <th>7</th>\n",
       "      <td>392</td>\n",
       "      <td>1814-01-01T00:00:00.000</td>\n",
       "      <td>Fell</td>\n",
       "      <td>Agen</td>\n",
       "      <td>Valid</td>\n",
       "      <td>30000</td>\n",
       "      <td>44.21667</td>\n",
       "      <td>0.61667</td>\n",
       "    </tr>\n",
       "    <tr>\n",
       "      <th>8</th>\n",
       "      <td>398</td>\n",
       "      <td>1930-01-01T00:00:00.000</td>\n",
       "      <td>Fell</td>\n",
       "      <td>Aguada</td>\n",
       "      <td>Valid</td>\n",
       "      <td>1620</td>\n",
       "      <td>-31.60000</td>\n",
       "      <td>-65.23333</td>\n",
       "    </tr>\n",
       "    <tr>\n",
       "      <th>9</th>\n",
       "      <td>417</td>\n",
       "      <td>1920-01-01T00:00:00.000</td>\n",
       "      <td>Fell</td>\n",
       "      <td>Aguila Blanca</td>\n",
       "      <td>Valid</td>\n",
       "      <td>1440</td>\n",
       "      <td>-30.86667</td>\n",
       "      <td>-64.55000</td>\n",
       "    </tr>\n",
       "  </tbody>\n",
       "</table>\n",
       "</div>"
      ],
      "text/plain": [
       "    id                     year  fall                 name nametype    mass  \\\n",
       "0    1  1880-01-01T00:00:00.000  Fell               Aachen    Valid      21   \n",
       "1    2  1951-01-01T00:00:00.000  Fell               Aarhus    Valid     720   \n",
       "2    6  1952-01-01T00:00:00.000  Fell                 Abee    Valid  107000   \n",
       "3   10  1976-01-01T00:00:00.000  Fell             Acapulco    Valid    1914   \n",
       "4  370  1902-01-01T00:00:00.000  Fell              Achiras    Valid     780   \n",
       "5  379  1919-01-01T00:00:00.000  Fell             Adhi Kot    Valid    4239   \n",
       "6  390  1949-01-01T00:00:00.000  Fell  Adzhi-Bogdo (stone)    Valid     910   \n",
       "7  392  1814-01-01T00:00:00.000  Fell                 Agen    Valid   30000   \n",
       "8  398  1930-01-01T00:00:00.000  Fell               Aguada    Valid    1620   \n",
       "9  417  1920-01-01T00:00:00.000  Fell        Aguila Blanca    Valid    1440   \n",
       "\n",
       "   latitude  longitude  \n",
       "0  50.77500    6.08333  \n",
       "1  56.18333   10.23333  \n",
       "2  54.21667 -113.00000  \n",
       "3  16.88333  -99.90000  \n",
       "4 -33.16667  -64.95000  \n",
       "5  32.10000   71.80000  \n",
       "6  44.83333   95.16667  \n",
       "7  44.21667    0.61667  \n",
       "8 -31.60000  -65.23333  \n",
       "9 -30.86667  -64.55000  "
      ]
     },
     "execution_count": 21,
     "metadata": {},
     "output_type": "execute_result"
    }
   ],
   "source": [
    "#create data frame with column names in it\n",
    "df = pd.DataFrame(meteorList, columns=colnames)\n",
    "\n",
    "df.head(10)"
   ]
  },
  {
   "cell_type": "code",
   "execution_count": 22,
   "metadata": {},
   "outputs": [
    {
     "data": {
      "text/html": [
       "<div>\n",
       "<style scoped>\n",
       "    .dataframe tbody tr th:only-of-type {\n",
       "        vertical-align: middle;\n",
       "    }\n",
       "\n",
       "    .dataframe tbody tr th {\n",
       "        vertical-align: top;\n",
       "    }\n",
       "\n",
       "    .dataframe thead th {\n",
       "        text-align: right;\n",
       "    }\n",
       "</style>\n",
       "<table border=\"1\" class=\"dataframe\">\n",
       "  <thead>\n",
       "    <tr style=\"text-align: right;\">\n",
       "      <th></th>\n",
       "      <th>id</th>\n",
       "      <th>year</th>\n",
       "      <th>fall</th>\n",
       "      <th>name</th>\n",
       "      <th>nametype</th>\n",
       "      <th>mass</th>\n",
       "      <th>latitude</th>\n",
       "      <th>longitude</th>\n",
       "    </tr>\n",
       "  </thead>\n",
       "  <tbody>\n",
       "    <tr>\n",
       "      <th>990</th>\n",
       "      <td>23984</td>\n",
       "      <td>1986-01-01T00:00:00.000</td>\n",
       "      <td>Fell</td>\n",
       "      <td>Tianzhang</td>\n",
       "      <td>Valid</td>\n",
       "      <td>2232</td>\n",
       "      <td>32.94667</td>\n",
       "      <td>118.99000</td>\n",
       "    </tr>\n",
       "    <tr>\n",
       "      <th>991</th>\n",
       "      <td>23989</td>\n",
       "      <td>1878-01-01T00:00:00.000</td>\n",
       "      <td>Fell</td>\n",
       "      <td>Tieschitz</td>\n",
       "      <td>Valid</td>\n",
       "      <td>28000</td>\n",
       "      <td>49.60000</td>\n",
       "      <td>17.11667</td>\n",
       "    </tr>\n",
       "    <tr>\n",
       "      <th>992</th>\n",
       "      <td>23998</td>\n",
       "      <td>1927-01-01T00:00:00.000</td>\n",
       "      <td>Fell</td>\n",
       "      <td>Tilden</td>\n",
       "      <td>Valid</td>\n",
       "      <td>74800</td>\n",
       "      <td>38.20000</td>\n",
       "      <td>-89.68333</td>\n",
       "    </tr>\n",
       "    <tr>\n",
       "      <th>993</th>\n",
       "      <td>23999</td>\n",
       "      <td>1970-01-01T00:00:00.000</td>\n",
       "      <td>Fell</td>\n",
       "      <td>Tillaberi</td>\n",
       "      <td>Valid</td>\n",
       "      <td>3000</td>\n",
       "      <td>14.25000</td>\n",
       "      <td>1.53333</td>\n",
       "    </tr>\n",
       "    <tr>\n",
       "      <th>994</th>\n",
       "      <td>24004</td>\n",
       "      <td>1807-01-01T00:00:00.000</td>\n",
       "      <td>Fell</td>\n",
       "      <td>Timochin</td>\n",
       "      <td>Valid</td>\n",
       "      <td>65500</td>\n",
       "      <td>54.50000</td>\n",
       "      <td>35.20000</td>\n",
       "    </tr>\n",
       "    <tr>\n",
       "      <th>995</th>\n",
       "      <td>24009</td>\n",
       "      <td>1934-01-01T00:00:00.000</td>\n",
       "      <td>Fell</td>\n",
       "      <td>Tirupati</td>\n",
       "      <td>Valid</td>\n",
       "      <td>230</td>\n",
       "      <td>13.63333</td>\n",
       "      <td>79.41667</td>\n",
       "    </tr>\n",
       "    <tr>\n",
       "      <th>996</th>\n",
       "      <td>54823</td>\n",
       "      <td>2011-01-01T00:00:00.000</td>\n",
       "      <td>Fell</td>\n",
       "      <td>Tissint</td>\n",
       "      <td>Valid</td>\n",
       "      <td>7000</td>\n",
       "      <td>29.48195</td>\n",
       "      <td>-7.61123</td>\n",
       "    </tr>\n",
       "    <tr>\n",
       "      <th>997</th>\n",
       "      <td>24011</td>\n",
       "      <td>1869-01-01T00:00:00.000</td>\n",
       "      <td>Fell</td>\n",
       "      <td>Tjabe</td>\n",
       "      <td>Valid</td>\n",
       "      <td>20000</td>\n",
       "      <td>-7.08333</td>\n",
       "      <td>111.53333</td>\n",
       "    </tr>\n",
       "    <tr>\n",
       "      <th>998</th>\n",
       "      <td>24012</td>\n",
       "      <td>1922-01-01T00:00:00.000</td>\n",
       "      <td>Fell</td>\n",
       "      <td>Tjerebon</td>\n",
       "      <td>Valid</td>\n",
       "      <td>16500</td>\n",
       "      <td>-6.66667</td>\n",
       "      <td>106.58333</td>\n",
       "    </tr>\n",
       "    <tr>\n",
       "      <th>999</th>\n",
       "      <td>24019</td>\n",
       "      <td>1905-01-01T00:00:00.000</td>\n",
       "      <td>Fell</td>\n",
       "      <td>Tomakovka</td>\n",
       "      <td>Valid</td>\n",
       "      <td>600</td>\n",
       "      <td>47.85000</td>\n",
       "      <td>34.76667</td>\n",
       "    </tr>\n",
       "  </tbody>\n",
       "</table>\n",
       "</div>"
      ],
      "text/plain": [
       "        id                     year  fall       name nametype   mass  \\\n",
       "990  23984  1986-01-01T00:00:00.000  Fell  Tianzhang    Valid   2232   \n",
       "991  23989  1878-01-01T00:00:00.000  Fell  Tieschitz    Valid  28000   \n",
       "992  23998  1927-01-01T00:00:00.000  Fell     Tilden    Valid  74800   \n",
       "993  23999  1970-01-01T00:00:00.000  Fell  Tillaberi    Valid   3000   \n",
       "994  24004  1807-01-01T00:00:00.000  Fell   Timochin    Valid  65500   \n",
       "995  24009  1934-01-01T00:00:00.000  Fell   Tirupati    Valid    230   \n",
       "996  54823  2011-01-01T00:00:00.000  Fell    Tissint    Valid   7000   \n",
       "997  24011  1869-01-01T00:00:00.000  Fell      Tjabe    Valid  20000   \n",
       "998  24012  1922-01-01T00:00:00.000  Fell   Tjerebon    Valid  16500   \n",
       "999  24019  1905-01-01T00:00:00.000  Fell  Tomakovka    Valid    600   \n",
       "\n",
       "     latitude  longitude  \n",
       "990  32.94667  118.99000  \n",
       "991  49.60000   17.11667  \n",
       "992  38.20000  -89.68333  \n",
       "993  14.25000    1.53333  \n",
       "994  54.50000   35.20000  \n",
       "995  13.63333   79.41667  \n",
       "996  29.48195   -7.61123  \n",
       "997  -7.08333  111.53333  \n",
       "998  -6.66667  106.58333  \n",
       "999  47.85000   34.76667  "
      ]
     },
     "execution_count": 22,
     "metadata": {},
     "output_type": "execute_result"
    }
   ],
   "source": [
    "df.tail(10)"
   ]
  },
  {
   "cell_type": "markdown",
   "metadata": {},
   "source": [
    "# Geolocation Data\n",
    "Geospatial information is data that is referenced by spatial or geographic coordinates. The data that we will be working with in this lesson is vector data - features that are represented by points, lines, and polygons. \n",
    "Points are defined by a pair of (x,y) coordinates. They usually represent locations, place names, and other objects on the ground.\n",
    "Lines are the connection between two points. They can have properties such as length, direction, flow, etc.\n",
    "Polygons are a series of lines connected together to form a shape. They can have properties such as area, perimeters, and centroids.\n",
    "In this notebook, you will need to install the geopandas and geoPy libraries. Also, download this text file to use in the example code below."
   ]
  },
  {
   "cell_type": "markdown",
   "metadata": {},
   "source": [
    "## Geocoding and Reverse Geocoding\n",
    "Geocoding is taking an address for a location and returning its latitudinal and longitudinal coordinates. Reverse geocoding would then be the opposite - taking the latitudinal and longitudinal coordinates for a location and returning the physical address."
   ]
  },
  {
   "cell_type": "code",
   "execution_count": 23,
   "metadata": {},
   "outputs": [
    {
     "data": {
      "text/html": [
       "<div>\n",
       "<style scoped>\n",
       "    .dataframe tbody tr th:only-of-type {\n",
       "        vertical-align: middle;\n",
       "    }\n",
       "\n",
       "    .dataframe tbody tr th {\n",
       "        vertical-align: top;\n",
       "    }\n",
       "\n",
       "    .dataframe thead th {\n",
       "        text-align: right;\n",
       "    }\n",
       "</style>\n",
       "<table border=\"1\" class=\"dataframe\">\n",
       "  <thead>\n",
       "    <tr style=\"text-align: right;\">\n",
       "      <th></th>\n",
       "      <th>geometry</th>\n",
       "      <th>address</th>\n",
       "    </tr>\n",
       "  </thead>\n",
       "  <tbody>\n",
       "    <tr>\n",
       "      <th>0</th>\n",
       "      <td>POINT (-76.96662 39.00261)</td>\n",
       "      <td>Metzerott Road, Avenel, Buck Lodge, Adelphi, P...</td>\n",
       "    </tr>\n",
       "  </tbody>\n",
       "</table>\n",
       "</div>"
      ],
      "text/plain": [
       "                     geometry  \\\n",
       "0  POINT (-76.96662 39.00261)   \n",
       "\n",
       "                                             address  \n",
       "0  Metzerott Road, Avenel, Buck Lodge, Adelphi, P...  "
      ]
     },
     "execution_count": 23,
     "metadata": {},
     "output_type": "execute_result"
    }
   ],
   "source": [
    "#take an address and return coordinates\n",
    "#returned variable is a geo-dataframe with 2 columns, geometry (the geographical shape) and the full physical address\n",
    "ex1_geo = geocode(\"1830 Metzerott rd, Adelphi, MD\", provider='nominatim')\n",
    "ex1_geo"
   ]
  },
  {
   "cell_type": "code",
   "execution_count": 24,
   "metadata": {},
   "outputs": [
    {
     "data": {
      "text/plain": [
       "\"Metzerott Road, Avenel, Buck Lodge, Adelphi, Prince George's County, Maryland, 20740, United States of America\""
      ]
     },
     "execution_count": 24,
     "metadata": {},
     "output_type": "execute_result"
    }
   ],
   "source": [
    "#structure of full address\n",
    "#each API structures addresses differently\n",
    "ex1_geo['address'].iloc[0]"
   ]
  },
  {
   "cell_type": "code",
   "execution_count": 25,
   "metadata": {},
   "outputs": [
    {
     "data": {
      "text/html": [
       "<div>\n",
       "<style scoped>\n",
       "    .dataframe tbody tr th:only-of-type {\n",
       "        vertical-align: middle;\n",
       "    }\n",
       "\n",
       "    .dataframe tbody tr th {\n",
       "        vertical-align: top;\n",
       "    }\n",
       "\n",
       "    .dataframe thead th {\n",
       "        text-align: right;\n",
       "    }\n",
       "</style>\n",
       "<table border=\"1\" class=\"dataframe\">\n",
       "  <thead>\n",
       "    <tr style=\"text-align: right;\">\n",
       "      <th></th>\n",
       "      <th>geometry</th>\n",
       "      <th>address</th>\n",
       "    </tr>\n",
       "  </thead>\n",
       "  <tbody>\n",
       "    <tr>\n",
       "      <th>0</th>\n",
       "      <td>POINT (-77.15880 39.09852)</td>\n",
       "      <td>Montgomery College, 51, Mannakee Street, West ...</td>\n",
       "    </tr>\n",
       "  </tbody>\n",
       "</table>\n",
       "</div>"
      ],
      "text/plain": [
       "                     geometry  \\\n",
       "0  POINT (-77.15880 39.09852)   \n",
       "\n",
       "                                             address  \n",
       "0  Montgomery College, 51, Mannakee Street, West ...  "
      ]
     },
     "execution_count": 25,
     "metadata": {},
     "output_type": "execute_result"
    }
   ],
   "source": [
    "#use latitude and longitude to get physical address\n",
    "#pass through using Point geometry\n",
    "#also returns geo-dataframe with geometry and full physical address\n",
    "ex2_geo = reverse_geocode([Point(-77.15879730243169, 39.0985195)], provider='nominatim')\n",
    "ex2_geo"
   ]
  },
  {
   "cell_type": "markdown",
   "metadata": {},
   "source": [
    "### Geocode a Dataframe column"
   ]
  },
  {
   "cell_type": "markdown",
   "metadata": {},
   "source": [
    "We need to download the continents.json GeoJSON file for the world map that will be charted."
   ]
  },
  {
   "cell_type": "code",
   "execution_count": 26,
   "metadata": {},
   "outputs": [
    {
     "data": {
      "text/html": [
       "<div>\n",
       "<style scoped>\n",
       "    .dataframe tbody tr th:only-of-type {\n",
       "        vertical-align: middle;\n",
       "    }\n",
       "\n",
       "    .dataframe tbody tr th {\n",
       "        vertical-align: top;\n",
       "    }\n",
       "\n",
       "    .dataframe thead th {\n",
       "        text-align: right;\n",
       "    }\n",
       "</style>\n",
       "<table border=\"1\" class=\"dataframe\">\n",
       "  <thead>\n",
       "    <tr style=\"text-align: right;\">\n",
       "      <th></th>\n",
       "      <th>id</th>\n",
       "      <th>year</th>\n",
       "      <th>fall</th>\n",
       "      <th>name</th>\n",
       "      <th>nametype</th>\n",
       "      <th>mass</th>\n",
       "      <th>latitude</th>\n",
       "      <th>longitude</th>\n",
       "    </tr>\n",
       "  </thead>\n",
       "  <tbody>\n",
       "    <tr>\n",
       "      <th>0</th>\n",
       "      <td>1</td>\n",
       "      <td>1880-01-01T00:00:00.000</td>\n",
       "      <td>Fell</td>\n",
       "      <td>Aachen</td>\n",
       "      <td>Valid</td>\n",
       "      <td>21</td>\n",
       "      <td>50.77500</td>\n",
       "      <td>6.08333</td>\n",
       "    </tr>\n",
       "    <tr>\n",
       "      <th>1</th>\n",
       "      <td>2</td>\n",
       "      <td>1951-01-01T00:00:00.000</td>\n",
       "      <td>Fell</td>\n",
       "      <td>Aarhus</td>\n",
       "      <td>Valid</td>\n",
       "      <td>720</td>\n",
       "      <td>56.18333</td>\n",
       "      <td>10.23333</td>\n",
       "    </tr>\n",
       "    <tr>\n",
       "      <th>2</th>\n",
       "      <td>6</td>\n",
       "      <td>1952-01-01T00:00:00.000</td>\n",
       "      <td>Fell</td>\n",
       "      <td>Abee</td>\n",
       "      <td>Valid</td>\n",
       "      <td>107000</td>\n",
       "      <td>54.21667</td>\n",
       "      <td>-113.00000</td>\n",
       "    </tr>\n",
       "    <tr>\n",
       "      <th>3</th>\n",
       "      <td>10</td>\n",
       "      <td>1976-01-01T00:00:00.000</td>\n",
       "      <td>Fell</td>\n",
       "      <td>Acapulco</td>\n",
       "      <td>Valid</td>\n",
       "      <td>1914</td>\n",
       "      <td>16.88333</td>\n",
       "      <td>-99.90000</td>\n",
       "    </tr>\n",
       "    <tr>\n",
       "      <th>4</th>\n",
       "      <td>370</td>\n",
       "      <td>1902-01-01T00:00:00.000</td>\n",
       "      <td>Fell</td>\n",
       "      <td>Achiras</td>\n",
       "      <td>Valid</td>\n",
       "      <td>780</td>\n",
       "      <td>-33.16667</td>\n",
       "      <td>-64.95000</td>\n",
       "    </tr>\n",
       "  </tbody>\n",
       "</table>\n",
       "</div>"
      ],
      "text/plain": [
       "    id                     year  fall      name nametype    mass  latitude  \\\n",
       "0    1  1880-01-01T00:00:00.000  Fell    Aachen    Valid      21  50.77500   \n",
       "1    2  1951-01-01T00:00:00.000  Fell    Aarhus    Valid     720  56.18333   \n",
       "2    6  1952-01-01T00:00:00.000  Fell      Abee    Valid  107000  54.21667   \n",
       "3   10  1976-01-01T00:00:00.000  Fell  Acapulco    Valid    1914  16.88333   \n",
       "4  370  1902-01-01T00:00:00.000  Fell   Achiras    Valid     780 -33.16667   \n",
       "\n",
       "   longitude  \n",
       "0    6.08333  \n",
       "1   10.23333  \n",
       "2 -113.00000  \n",
       "3  -99.90000  \n",
       "4  -64.95000  "
      ]
     },
     "execution_count": 26,
     "metadata": {},
     "output_type": "execute_result"
    }
   ],
   "source": [
    "meteor_df = df\n",
    "meteor_df.head()"
   ]
  },
  {
   "cell_type": "code",
   "execution_count": 27,
   "metadata": {},
   "outputs": [
    {
     "data": {
      "text/plain": [
       "id            object\n",
       "year          object\n",
       "fall          object\n",
       "name          object\n",
       "nametype      object\n",
       "mass          object\n",
       "latitude     float64\n",
       "longitude    float64\n",
       "dtype: object"
      ]
     },
     "execution_count": 27,
     "metadata": {},
     "output_type": "execute_result"
    }
   ],
   "source": [
    "#data type of each column\n",
    "meteor_df.dtypes"
   ]
  },
  {
   "cell_type": "code",
   "execution_count": 28,
   "metadata": {},
   "outputs": [
    {
     "name": "stderr",
     "output_type": "stream",
     "text": [
      "/Users/ramlijufar/opt/anaconda3/lib/python3.7/site-packages/ipykernel_launcher.py:6: SettingWithCopyWarning: \n",
      "A value is trying to be set on a copy of a slice from a DataFrame.\n",
      "Try using .loc[row_indexer,col_indexer] = value instead\n",
      "\n",
      "See the caveats in the documentation: https://pandas.pydata.org/pandas-docs/stable/user_guide/indexing.html#returning-a-view-versus-a-copy\n",
      "  \n"
     ]
    }
   ],
   "source": [
    "#only dataframe with non-null year column values\n",
    "meteor_df = meteor_df.loc[meteor_df['year'].notnull()]\n",
    "\n",
    "#change year column into a string\n",
    "#need to use string type for getYear function below\n",
    "meteor_df['year'] = meteor_df['year'].astype(str)"
   ]
  },
  {
   "cell_type": "code",
   "execution_count": 29,
   "metadata": {},
   "outputs": [],
   "source": [
    "#function to split apart the date from the timestamp\n",
    "def getYear(col):\n",
    "    #get YYYY-MM-DD value\n",
    "    date = col.split(\"T\")[0]\n",
    "    \n",
    "    #extract year from date\n",
    "    dt = datetime.strptime(date, '%Y-%m-%d')\n",
    "    return dt.year"
   ]
  },
  {
   "cell_type": "code",
   "execution_count": 30,
   "metadata": {},
   "outputs": [
    {
     "name": "stderr",
     "output_type": "stream",
     "text": [
      "/Users/ramlijufar/opt/anaconda3/lib/python3.7/site-packages/ipykernel_launcher.py:2: SettingWithCopyWarning: \n",
      "A value is trying to be set on a copy of a slice from a DataFrame.\n",
      "Try using .loc[row_indexer,col_indexer] = value instead\n",
      "\n",
      "See the caveats in the documentation: https://pandas.pydata.org/pandas-docs/stable/user_guide/indexing.html#returning-a-view-versus-a-copy\n",
      "  \n"
     ]
    },
    {
     "data": {
      "text/html": [
       "<div>\n",
       "<style scoped>\n",
       "    .dataframe tbody tr th:only-of-type {\n",
       "        vertical-align: middle;\n",
       "    }\n",
       "\n",
       "    .dataframe tbody tr th {\n",
       "        vertical-align: top;\n",
       "    }\n",
       "\n",
       "    .dataframe thead th {\n",
       "        text-align: right;\n",
       "    }\n",
       "</style>\n",
       "<table border=\"1\" class=\"dataframe\">\n",
       "  <thead>\n",
       "    <tr style=\"text-align: right;\">\n",
       "      <th></th>\n",
       "      <th>id</th>\n",
       "      <th>year</th>\n",
       "      <th>fall</th>\n",
       "      <th>name</th>\n",
       "      <th>nametype</th>\n",
       "      <th>mass</th>\n",
       "      <th>latitude</th>\n",
       "      <th>longitude</th>\n",
       "    </tr>\n",
       "  </thead>\n",
       "  <tbody>\n",
       "    <tr>\n",
       "      <th>0</th>\n",
       "      <td>1</td>\n",
       "      <td>1880</td>\n",
       "      <td>Fell</td>\n",
       "      <td>Aachen</td>\n",
       "      <td>Valid</td>\n",
       "      <td>21</td>\n",
       "      <td>50.77500</td>\n",
       "      <td>6.08333</td>\n",
       "    </tr>\n",
       "    <tr>\n",
       "      <th>1</th>\n",
       "      <td>2</td>\n",
       "      <td>1951</td>\n",
       "      <td>Fell</td>\n",
       "      <td>Aarhus</td>\n",
       "      <td>Valid</td>\n",
       "      <td>720</td>\n",
       "      <td>56.18333</td>\n",
       "      <td>10.23333</td>\n",
       "    </tr>\n",
       "    <tr>\n",
       "      <th>2</th>\n",
       "      <td>6</td>\n",
       "      <td>1952</td>\n",
       "      <td>Fell</td>\n",
       "      <td>Abee</td>\n",
       "      <td>Valid</td>\n",
       "      <td>107000</td>\n",
       "      <td>54.21667</td>\n",
       "      <td>-113.00000</td>\n",
       "    </tr>\n",
       "    <tr>\n",
       "      <th>3</th>\n",
       "      <td>10</td>\n",
       "      <td>1976</td>\n",
       "      <td>Fell</td>\n",
       "      <td>Acapulco</td>\n",
       "      <td>Valid</td>\n",
       "      <td>1914</td>\n",
       "      <td>16.88333</td>\n",
       "      <td>-99.90000</td>\n",
       "    </tr>\n",
       "    <tr>\n",
       "      <th>4</th>\n",
       "      <td>370</td>\n",
       "      <td>1902</td>\n",
       "      <td>Fell</td>\n",
       "      <td>Achiras</td>\n",
       "      <td>Valid</td>\n",
       "      <td>780</td>\n",
       "      <td>-33.16667</td>\n",
       "      <td>-64.95000</td>\n",
       "    </tr>\n",
       "  </tbody>\n",
       "</table>\n",
       "</div>"
      ],
      "text/plain": [
       "    id  year  fall      name nametype    mass  latitude  longitude\n",
       "0    1  1880  Fell    Aachen    Valid      21  50.77500    6.08333\n",
       "1    2  1951  Fell    Aarhus    Valid     720  56.18333   10.23333\n",
       "2    6  1952  Fell      Abee    Valid  107000  54.21667 -113.00000\n",
       "3   10  1976  Fell  Acapulco    Valid    1914  16.88333  -99.90000\n",
       "4  370  1902  Fell   Achiras    Valid     780 -33.16667  -64.95000"
      ]
     },
     "execution_count": 30,
     "metadata": {},
     "output_type": "execute_result"
    }
   ],
   "source": [
    "#replace the year timestamp data with only the year (using the getYear function)\n",
    "meteor_df['year'] = meteor_df['year'].apply(getYear)\n",
    "meteor_df.head()"
   ]
  },
  {
   "cell_type": "code",
   "execution_count": 31,
   "metadata": {},
   "outputs": [
    {
     "data": {
      "text/plain": [
       "id           999\n",
       "year         999\n",
       "fall         999\n",
       "name         999\n",
       "nametype     999\n",
       "mass         971\n",
       "latitude     987\n",
       "longitude    987\n",
       "dtype: int64"
      ]
     },
     "execution_count": 31,
     "metadata": {},
     "output_type": "execute_result"
    }
   ],
   "source": [
    "#see columns with null values\n",
    "meteor_df.count()"
   ]
  },
  {
   "cell_type": "code",
   "execution_count": 32,
   "metadata": {},
   "outputs": [
    {
     "data": {
      "text/plain": [
       "id           959\n",
       "year         959\n",
       "fall         959\n",
       "name         959\n",
       "nametype     959\n",
       "mass         959\n",
       "latitude     959\n",
       "longitude    959\n",
       "dtype: int64"
      ]
     },
     "execution_count": 32,
     "metadata": {},
     "output_type": "execute_result"
    }
   ],
   "source": [
    "#only include rows with non-null latitudes (which means longitude is also not null) and non-null mass\n",
    "meteor_df = meteor_df.loc[(meteor_df['latitude'].notnull()) & meteor_df['mass'].notnull()]\n",
    "meteor_df.count()"
   ]
  },
  {
   "cell_type": "code",
   "execution_count": 33,
   "metadata": {},
   "outputs": [],
   "source": [
    "#make a new column to hold the longitude & latitude as a list\n",
    "meteor_df['coordinates'] = list(meteor_df[['longitude', 'latitude']].values)"
   ]
  },
  {
   "cell_type": "code",
   "execution_count": 34,
   "metadata": {},
   "outputs": [
    {
     "data": {
      "text/html": [
       "<div>\n",
       "<style scoped>\n",
       "    .dataframe tbody tr th:only-of-type {\n",
       "        vertical-align: middle;\n",
       "    }\n",
       "\n",
       "    .dataframe tbody tr th {\n",
       "        vertical-align: top;\n",
       "    }\n",
       "\n",
       "    .dataframe thead th {\n",
       "        text-align: right;\n",
       "    }\n",
       "</style>\n",
       "<table border=\"1\" class=\"dataframe\">\n",
       "  <thead>\n",
       "    <tr style=\"text-align: right;\">\n",
       "      <th></th>\n",
       "      <th>id</th>\n",
       "      <th>year</th>\n",
       "      <th>fall</th>\n",
       "      <th>name</th>\n",
       "      <th>nametype</th>\n",
       "      <th>mass</th>\n",
       "      <th>latitude</th>\n",
       "      <th>longitude</th>\n",
       "      <th>coordinates</th>\n",
       "    </tr>\n",
       "  </thead>\n",
       "  <tbody>\n",
       "    <tr>\n",
       "      <th>0</th>\n",
       "      <td>1</td>\n",
       "      <td>1880</td>\n",
       "      <td>Fell</td>\n",
       "      <td>Aachen</td>\n",
       "      <td>Valid</td>\n",
       "      <td>21</td>\n",
       "      <td>50.77500</td>\n",
       "      <td>6.08333</td>\n",
       "      <td>[6.08333, 50.775]</td>\n",
       "    </tr>\n",
       "    <tr>\n",
       "      <th>1</th>\n",
       "      <td>2</td>\n",
       "      <td>1951</td>\n",
       "      <td>Fell</td>\n",
       "      <td>Aarhus</td>\n",
       "      <td>Valid</td>\n",
       "      <td>720</td>\n",
       "      <td>56.18333</td>\n",
       "      <td>10.23333</td>\n",
       "      <td>[10.23333, 56.18333]</td>\n",
       "    </tr>\n",
       "    <tr>\n",
       "      <th>2</th>\n",
       "      <td>6</td>\n",
       "      <td>1952</td>\n",
       "      <td>Fell</td>\n",
       "      <td>Abee</td>\n",
       "      <td>Valid</td>\n",
       "      <td>107000</td>\n",
       "      <td>54.21667</td>\n",
       "      <td>-113.00000</td>\n",
       "      <td>[-113.0, 54.21667]</td>\n",
       "    </tr>\n",
       "    <tr>\n",
       "      <th>3</th>\n",
       "      <td>10</td>\n",
       "      <td>1976</td>\n",
       "      <td>Fell</td>\n",
       "      <td>Acapulco</td>\n",
       "      <td>Valid</td>\n",
       "      <td>1914</td>\n",
       "      <td>16.88333</td>\n",
       "      <td>-99.90000</td>\n",
       "      <td>[-99.9, 16.88333]</td>\n",
       "    </tr>\n",
       "    <tr>\n",
       "      <th>4</th>\n",
       "      <td>370</td>\n",
       "      <td>1902</td>\n",
       "      <td>Fell</td>\n",
       "      <td>Achiras</td>\n",
       "      <td>Valid</td>\n",
       "      <td>780</td>\n",
       "      <td>-33.16667</td>\n",
       "      <td>-64.95000</td>\n",
       "      <td>[-64.95, -33.16667]</td>\n",
       "    </tr>\n",
       "  </tbody>\n",
       "</table>\n",
       "</div>"
      ],
      "text/plain": [
       "    id  year  fall      name nametype    mass  latitude  longitude  \\\n",
       "0    1  1880  Fell    Aachen    Valid      21  50.77500    6.08333   \n",
       "1    2  1951  Fell    Aarhus    Valid     720  56.18333   10.23333   \n",
       "2    6  1952  Fell      Abee    Valid  107000  54.21667 -113.00000   \n",
       "3   10  1976  Fell  Acapulco    Valid    1914  16.88333  -99.90000   \n",
       "4  370  1902  Fell   Achiras    Valid     780 -33.16667  -64.95000   \n",
       "\n",
       "            coordinates  \n",
       "0     [6.08333, 50.775]  \n",
       "1  [10.23333, 56.18333]  \n",
       "2    [-113.0, 54.21667]  \n",
       "3     [-99.9, 16.88333]  \n",
       "4   [-64.95, -33.16667]  "
      ]
     },
     "execution_count": 34,
     "metadata": {},
     "output_type": "execute_result"
    }
   ],
   "source": [
    "#see new coordinates column\n",
    "meteor_df.head()"
   ]
  },
  {
   "cell_type": "code",
   "execution_count": 35,
   "metadata": {},
   "outputs": [
    {
     "data": {
      "text/plain": [
       "dtype('O')"
      ]
     },
     "execution_count": 35,
     "metadata": {},
     "output_type": "execute_result"
    }
   ],
   "source": [
    "#list values in coordinates column is classified as object type\n",
    "meteor_df['coordinates'].dtypes"
   ]
  },
  {
   "cell_type": "code",
   "execution_count": 36,
   "metadata": {},
   "outputs": [],
   "source": [
    "#convert the coordinates to a geolocation type\n",
    "meteor_df['coordinates'] = meteor_df['coordinates'].apply(Point)"
   ]
  },
  {
   "cell_type": "code",
   "execution_count": 37,
   "metadata": {},
   "outputs": [
    {
     "data": {
      "text/html": [
       "<div>\n",
       "<style scoped>\n",
       "    .dataframe tbody tr th:only-of-type {\n",
       "        vertical-align: middle;\n",
       "    }\n",
       "\n",
       "    .dataframe tbody tr th {\n",
       "        vertical-align: top;\n",
       "    }\n",
       "\n",
       "    .dataframe thead th {\n",
       "        text-align: right;\n",
       "    }\n",
       "</style>\n",
       "<table border=\"1\" class=\"dataframe\">\n",
       "  <thead>\n",
       "    <tr style=\"text-align: right;\">\n",
       "      <th></th>\n",
       "      <th>id</th>\n",
       "      <th>year</th>\n",
       "      <th>fall</th>\n",
       "      <th>name</th>\n",
       "      <th>nametype</th>\n",
       "      <th>mass</th>\n",
       "      <th>latitude</th>\n",
       "      <th>longitude</th>\n",
       "      <th>coordinates</th>\n",
       "    </tr>\n",
       "  </thead>\n",
       "  <tbody>\n",
       "    <tr>\n",
       "      <th>0</th>\n",
       "      <td>1</td>\n",
       "      <td>1880</td>\n",
       "      <td>Fell</td>\n",
       "      <td>Aachen</td>\n",
       "      <td>Valid</td>\n",
       "      <td>21</td>\n",
       "      <td>50.77500</td>\n",
       "      <td>6.08333</td>\n",
       "      <td>POINT (6.08333 50.775)</td>\n",
       "    </tr>\n",
       "    <tr>\n",
       "      <th>1</th>\n",
       "      <td>2</td>\n",
       "      <td>1951</td>\n",
       "      <td>Fell</td>\n",
       "      <td>Aarhus</td>\n",
       "      <td>Valid</td>\n",
       "      <td>720</td>\n",
       "      <td>56.18333</td>\n",
       "      <td>10.23333</td>\n",
       "      <td>POINT (10.23333 56.18333)</td>\n",
       "    </tr>\n",
       "    <tr>\n",
       "      <th>2</th>\n",
       "      <td>6</td>\n",
       "      <td>1952</td>\n",
       "      <td>Fell</td>\n",
       "      <td>Abee</td>\n",
       "      <td>Valid</td>\n",
       "      <td>107000</td>\n",
       "      <td>54.21667</td>\n",
       "      <td>-113.00000</td>\n",
       "      <td>POINT (-113 54.21667)</td>\n",
       "    </tr>\n",
       "    <tr>\n",
       "      <th>3</th>\n",
       "      <td>10</td>\n",
       "      <td>1976</td>\n",
       "      <td>Fell</td>\n",
       "      <td>Acapulco</td>\n",
       "      <td>Valid</td>\n",
       "      <td>1914</td>\n",
       "      <td>16.88333</td>\n",
       "      <td>-99.90000</td>\n",
       "      <td>POINT (-99.90000000000001 16.88333)</td>\n",
       "    </tr>\n",
       "    <tr>\n",
       "      <th>4</th>\n",
       "      <td>370</td>\n",
       "      <td>1902</td>\n",
       "      <td>Fell</td>\n",
       "      <td>Achiras</td>\n",
       "      <td>Valid</td>\n",
       "      <td>780</td>\n",
       "      <td>-33.16667</td>\n",
       "      <td>-64.95000</td>\n",
       "      <td>POINT (-64.95 -33.16667)</td>\n",
       "    </tr>\n",
       "  </tbody>\n",
       "</table>\n",
       "</div>"
      ],
      "text/plain": [
       "    id  year  fall      name nametype    mass  latitude  longitude  \\\n",
       "0    1  1880  Fell    Aachen    Valid      21  50.77500    6.08333   \n",
       "1    2  1951  Fell    Aarhus    Valid     720  56.18333   10.23333   \n",
       "2    6  1952  Fell      Abee    Valid  107000  54.21667 -113.00000   \n",
       "3   10  1976  Fell  Acapulco    Valid    1914  16.88333  -99.90000   \n",
       "4  370  1902  Fell   Achiras    Valid     780 -33.16667  -64.95000   \n",
       "\n",
       "                           coordinates  \n",
       "0               POINT (6.08333 50.775)  \n",
       "1            POINT (10.23333 56.18333)  \n",
       "2                POINT (-113 54.21667)  \n",
       "3  POINT (-99.90000000000001 16.88333)  \n",
       "4             POINT (-64.95 -33.16667)  "
      ]
     },
     "execution_count": 37,
     "metadata": {},
     "output_type": "execute_result"
    }
   ],
   "source": [
    "#coordinates column now has POINT next to each coordinate pair value\n",
    "meteor_df.head()"
   ]
  },
  {
   "cell_type": "code",
   "execution_count": 38,
   "metadata": {},
   "outputs": [
    {
     "data": {
      "text/plain": [
       "pandas.core.series.Series"
      ]
     },
     "execution_count": 38,
     "metadata": {},
     "output_type": "execute_result"
    }
   ],
   "source": [
    "#coordinates column with geolocation data is just a regular pandas Series type\n",
    "type(meteor_df['coordinates'])"
   ]
  },
  {
   "cell_type": "code",
   "execution_count": 39,
   "metadata": {},
   "outputs": [],
   "source": [
    "#create a geolocation dataframe type using the coordinates column as the geolocation data\n",
    "geo_meteor = gpd.GeoDataFrame(meteor_df, geometry='coordinates')"
   ]
  },
  {
   "cell_type": "code",
   "execution_count": 40,
   "metadata": {},
   "outputs": [
    {
     "data": {
      "text/html": [
       "<div>\n",
       "<style scoped>\n",
       "    .dataframe tbody tr th:only-of-type {\n",
       "        vertical-align: middle;\n",
       "    }\n",
       "\n",
       "    .dataframe tbody tr th {\n",
       "        vertical-align: top;\n",
       "    }\n",
       "\n",
       "    .dataframe thead th {\n",
       "        text-align: right;\n",
       "    }\n",
       "</style>\n",
       "<table border=\"1\" class=\"dataframe\">\n",
       "  <thead>\n",
       "    <tr style=\"text-align: right;\">\n",
       "      <th></th>\n",
       "      <th>id</th>\n",
       "      <th>year</th>\n",
       "      <th>fall</th>\n",
       "      <th>name</th>\n",
       "      <th>nametype</th>\n",
       "      <th>mass</th>\n",
       "      <th>latitude</th>\n",
       "      <th>longitude</th>\n",
       "      <th>coordinates</th>\n",
       "    </tr>\n",
       "  </thead>\n",
       "  <tbody>\n",
       "    <tr>\n",
       "      <th>0</th>\n",
       "      <td>1</td>\n",
       "      <td>1880</td>\n",
       "      <td>Fell</td>\n",
       "      <td>Aachen</td>\n",
       "      <td>Valid</td>\n",
       "      <td>21</td>\n",
       "      <td>50.77500</td>\n",
       "      <td>6.08333</td>\n",
       "      <td>POINT (6.08333 50.77500)</td>\n",
       "    </tr>\n",
       "    <tr>\n",
       "      <th>1</th>\n",
       "      <td>2</td>\n",
       "      <td>1951</td>\n",
       "      <td>Fell</td>\n",
       "      <td>Aarhus</td>\n",
       "      <td>Valid</td>\n",
       "      <td>720</td>\n",
       "      <td>56.18333</td>\n",
       "      <td>10.23333</td>\n",
       "      <td>POINT (10.23333 56.18333)</td>\n",
       "    </tr>\n",
       "    <tr>\n",
       "      <th>2</th>\n",
       "      <td>6</td>\n",
       "      <td>1952</td>\n",
       "      <td>Fell</td>\n",
       "      <td>Abee</td>\n",
       "      <td>Valid</td>\n",
       "      <td>107000</td>\n",
       "      <td>54.21667</td>\n",
       "      <td>-113.00000</td>\n",
       "      <td>POINT (-113.00000 54.21667)</td>\n",
       "    </tr>\n",
       "    <tr>\n",
       "      <th>3</th>\n",
       "      <td>10</td>\n",
       "      <td>1976</td>\n",
       "      <td>Fell</td>\n",
       "      <td>Acapulco</td>\n",
       "      <td>Valid</td>\n",
       "      <td>1914</td>\n",
       "      <td>16.88333</td>\n",
       "      <td>-99.90000</td>\n",
       "      <td>POINT (-99.90000 16.88333)</td>\n",
       "    </tr>\n",
       "    <tr>\n",
       "      <th>4</th>\n",
       "      <td>370</td>\n",
       "      <td>1902</td>\n",
       "      <td>Fell</td>\n",
       "      <td>Achiras</td>\n",
       "      <td>Valid</td>\n",
       "      <td>780</td>\n",
       "      <td>-33.16667</td>\n",
       "      <td>-64.95000</td>\n",
       "      <td>POINT (-64.95000 -33.16667)</td>\n",
       "    </tr>\n",
       "  </tbody>\n",
       "</table>\n",
       "</div>"
      ],
      "text/plain": [
       "    id  year  fall      name nametype    mass  latitude  longitude  \\\n",
       "0    1  1880  Fell    Aachen    Valid      21  50.77500    6.08333   \n",
       "1    2  1951  Fell    Aarhus    Valid     720  56.18333   10.23333   \n",
       "2    6  1952  Fell      Abee    Valid  107000  54.21667 -113.00000   \n",
       "3   10  1976  Fell  Acapulco    Valid    1914  16.88333  -99.90000   \n",
       "4  370  1902  Fell   Achiras    Valid     780 -33.16667  -64.95000   \n",
       "\n",
       "                   coordinates  \n",
       "0     POINT (6.08333 50.77500)  \n",
       "1    POINT (10.23333 56.18333)  \n",
       "2  POINT (-113.00000 54.21667)  \n",
       "3   POINT (-99.90000 16.88333)  \n",
       "4  POINT (-64.95000 -33.16667)  "
      ]
     },
     "execution_count": 40,
     "metadata": {},
     "output_type": "execute_result"
    }
   ],
   "source": [
    "#geo-dataframe looks the same as regular dataframe\n",
    "geo_meteor.head()"
   ]
  },
  {
   "cell_type": "code",
   "execution_count": 41,
   "metadata": {},
   "outputs": [
    {
     "data": {
      "text/plain": [
       "geopandas.geoseries.GeoSeries"
      ]
     },
     "execution_count": 41,
     "metadata": {},
     "output_type": "execute_result"
    }
   ],
   "source": [
    "#verify coordinates column is geolocation data type\n",
    "type(geo_meteor['coordinates'])"
   ]
  },
  {
   "cell_type": "markdown",
   "metadata": {},
   "source": [
    "I already have the json data file with coordinates for the continents, but I presume it is not a difficult task to get the file online."
   ]
  },
  {
   "cell_type": "code",
   "execution_count": 42,
   "metadata": {},
   "outputs": [
    {
     "data": {
      "text/html": [
       "<div>\n",
       "<style scoped>\n",
       "    .dataframe tbody tr th:only-of-type {\n",
       "        vertical-align: middle;\n",
       "    }\n",
       "\n",
       "    .dataframe tbody tr th {\n",
       "        vertical-align: top;\n",
       "    }\n",
       "\n",
       "    .dataframe thead th {\n",
       "        text-align: right;\n",
       "    }\n",
       "</style>\n",
       "<table border=\"1\" class=\"dataframe\">\n",
       "  <thead>\n",
       "    <tr style=\"text-align: right;\">\n",
       "      <th></th>\n",
       "      <th>CONTINENT</th>\n",
       "      <th>geometry</th>\n",
       "    </tr>\n",
       "  </thead>\n",
       "  <tbody>\n",
       "    <tr>\n",
       "      <th>0</th>\n",
       "      <td>Asia</td>\n",
       "      <td>MULTIPOLYGON (((93.27554 80.26361, 93.14804 80...</td>\n",
       "    </tr>\n",
       "    <tr>\n",
       "      <th>1</th>\n",
       "      <td>North America</td>\n",
       "      <td>MULTIPOLYGON (((-25.28167 71.39166, -25.62389 ...</td>\n",
       "    </tr>\n",
       "    <tr>\n",
       "      <th>2</th>\n",
       "      <td>Europe</td>\n",
       "      <td>MULTIPOLYGON (((58.06138 81.68776, 57.88986 81...</td>\n",
       "    </tr>\n",
       "    <tr>\n",
       "      <th>3</th>\n",
       "      <td>Africa</td>\n",
       "      <td>MULTIPOLYGON (((0.69465 5.77337, 0.63583 5.944...</td>\n",
       "    </tr>\n",
       "    <tr>\n",
       "      <th>4</th>\n",
       "      <td>South America</td>\n",
       "      <td>MULTIPOLYGON (((-81.71306 12.49028, -81.72015 ...</td>\n",
       "    </tr>\n",
       "  </tbody>\n",
       "</table>\n",
       "</div>"
      ],
      "text/plain": [
       "       CONTINENT                                           geometry\n",
       "0           Asia  MULTIPOLYGON (((93.27554 80.26361, 93.14804 80...\n",
       "1  North America  MULTIPOLYGON (((-25.28167 71.39166, -25.62389 ...\n",
       "2         Europe  MULTIPOLYGON (((58.06138 81.68776, 57.88986 81...\n",
       "3         Africa  MULTIPOLYGON (((0.69465 5.77337, 0.63583 5.944...\n",
       "4  South America  MULTIPOLYGON (((-81.71306 12.49028, -81.72015 ..."
      ]
     },
     "execution_count": 42,
     "metadata": {},
     "output_type": "execute_result"
    }
   ],
   "source": [
    "#import file that contains a world map shape polygons\n",
    "#will use to plot the coordinates of meteorite landings\n",
    "filepath = \"datasets/continents.json\"\n",
    "\n",
    "#data contains polygon shape coordinates for different map body types (continents, etc.)\n",
    "map_df = gpd.read_file(filepath)\n",
    "map_df.head()"
   ]
  },
  {
   "cell_type": "markdown",
   "metadata": {},
   "source": [
    "The following code maps both your continent and meteorites into a single map."
   ]
  },
  {
   "cell_type": "code",
   "execution_count": 78,
   "metadata": {},
   "outputs": [
    {
     "data": {
      "text/plain": [
       "Text(0.5, 1, 'NASA Meteorite Landings')"
      ]
     },
     "execution_count": 78,
     "metadata": {},
     "output_type": "execute_result"
    },
    {
     "data": {
      "image/png": "[encoded data removed]",
      "text/plain": [
       "<Figure size 1080x720 with 1 Axes>"
      ]
     },
     "metadata": {
      "needs_background": "light"
     },
     "output_type": "display_data"
    }
   ],
   "source": [
    "#plot coordinates on top of map graph\n",
    "\n",
    "#this is to set the size of the borders\n",
    "fig, ax = plt.subplots(1, figsize=(15,10))\n",
    "\n",
    "#this is the map \n",
    "basemap = map_df.plot(ax=ax,cmap='Greens')\n",
    "\n",
    "#plot coordinates on top of map graph\n",
    "geo_meteor.plot(ax=basemap, color='blue', marker=\"o\", markersize=10)\n",
    "\n",
    "#take off axis numbers\n",
    "ax.axis('off')\n",
    "\n",
    "#put title on map\n",
    "ax.set_title(\"NASA Meteorite Landings\", fontsize=25, fontweight=3)"
   ]
  },
  {
   "cell_type": "code",
   "execution_count": null,
   "metadata": {},
   "outputs": [],
   "source": []
  }
 ],
 "metadata": {
  "kernelspec": {
   "display_name": "Python 3",
   "language": "python",
   "name": "python3"
  },
  "language_info": {
   "codemirror_mode": {
    "name": "ipython",
    "version": 3
   },
   "file_extension": ".py",
   "mimetype": "text/x-python",
   "name": "python",
   "nbconvert_exporter": "python",
   "pygments_lexer": "ipython3",
   "version": "3.7.6"
  }
 },
 "nbformat": 4,
 "nbformat_minor": 2
}
