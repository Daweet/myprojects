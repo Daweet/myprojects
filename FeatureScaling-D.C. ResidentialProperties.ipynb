{
 "cells": [
  {
   "cell_type": "markdown",
   "metadata": {},
   "source": [
    "# Feature Scaling D.C. Residential Properties\n",
    "\n",
    "Use the D.C. Residential Properties dataset (Links to an external site.) from Kaggle to re-scale the \"price\" column using both z-score standardization and Min-max scaling. - z-score standardization and Min-max scaling."
   ]
  },
  {
   "cell_type": "code",
   "execution_count": 1,
   "metadata": {},
   "outputs": [],
   "source": [
    "import pandas as pd\n",
    "import numpy as np\n",
    "from datetime import datetime\n",
    "#preprocessing functions will be used to standardize/normalize data\n",
    "from sklearn import preprocessing\n",
    "from sklearn.preprocessing import StandardScaler #z-score scaling\n",
    "from sklearn.preprocessing import MinMaxScaler # Min-Max Scaling\n",
    "\n",
    "%matplotlib inline"
   ]
  },
  {
   "cell_type": "code",
   "execution_count": 2,
   "metadata": {},
   "outputs": [
    {
     "name": "stderr",
     "output_type": "stream",
     "text": [
      "/Users/ramlijufar/opt/anaconda3/lib/python3.7/site-packages/IPython/core/interactiveshell.py:3063: DtypeWarning: Columns (18,19,20,21,22,23,24,33,34,35,37,43,45) have mixed types.Specify dtype option on import or set low_memory=False.\n",
      "  interactivity=interactivity, compiler=compiler, result=result)\n"
     ]
    },
    {
     "data": {
      "text/html": [
       "<div>\n",
       "<style scoped>\n",
       "    .dataframe tbody tr th:only-of-type {\n",
       "        vertical-align: middle;\n",
       "    }\n",
       "\n",
       "    .dataframe tbody tr th {\n",
       "        vertical-align: top;\n",
       "    }\n",
       "\n",
       "    .dataframe thead th {\n",
       "        text-align: right;\n",
       "    }\n",
       "</style>\n",
       "<table border=\"1\" class=\"dataframe\">\n",
       "  <thead>\n",
       "    <tr style=\"text-align: right;\">\n",
       "      <th></th>\n",
       "      <th>Unnamed: 0</th>\n",
       "      <th>BATHRM</th>\n",
       "      <th>HF_BATHRM</th>\n",
       "      <th>HEAT</th>\n",
       "      <th>AC</th>\n",
       "      <th>NUM_UNITS</th>\n",
       "      <th>ROOMS</th>\n",
       "      <th>BEDRM</th>\n",
       "      <th>AYB</th>\n",
       "      <th>YR_RMDL</th>\n",
       "      <th>...</th>\n",
       "      <th>LONGITUDE</th>\n",
       "      <th>ASSESSMENT_NBHD</th>\n",
       "      <th>ASSESSMENT_SUBNBHD</th>\n",
       "      <th>CENSUS_TRACT</th>\n",
       "      <th>CENSUS_BLOCK</th>\n",
       "      <th>WARD</th>\n",
       "      <th>SQUARE</th>\n",
       "      <th>X</th>\n",
       "      <th>Y</th>\n",
       "      <th>QUADRANT</th>\n",
       "    </tr>\n",
       "  </thead>\n",
       "  <tbody>\n",
       "    <tr>\n",
       "      <th>0</th>\n",
       "      <td>0</td>\n",
       "      <td>4</td>\n",
       "      <td>0</td>\n",
       "      <td>Warm Cool</td>\n",
       "      <td>Y</td>\n",
       "      <td>2.0</td>\n",
       "      <td>8</td>\n",
       "      <td>4</td>\n",
       "      <td>1910.0</td>\n",
       "      <td>1988.0</td>\n",
       "      <td>...</td>\n",
       "      <td>-77.040832</td>\n",
       "      <td>Old City 2</td>\n",
       "      <td>040 D Old City 2</td>\n",
       "      <td>4201.0</td>\n",
       "      <td>004201 2006</td>\n",
       "      <td>Ward 2</td>\n",
       "      <td>152</td>\n",
       "      <td>-77.040429</td>\n",
       "      <td>38.914881</td>\n",
       "      <td>NW</td>\n",
       "    </tr>\n",
       "    <tr>\n",
       "      <th>1</th>\n",
       "      <td>1</td>\n",
       "      <td>3</td>\n",
       "      <td>1</td>\n",
       "      <td>Warm Cool</td>\n",
       "      <td>Y</td>\n",
       "      <td>2.0</td>\n",
       "      <td>11</td>\n",
       "      <td>5</td>\n",
       "      <td>1898.0</td>\n",
       "      <td>2007.0</td>\n",
       "      <td>...</td>\n",
       "      <td>-77.040764</td>\n",
       "      <td>Old City 2</td>\n",
       "      <td>040 D Old City 2</td>\n",
       "      <td>4201.0</td>\n",
       "      <td>004201 2006</td>\n",
       "      <td>Ward 2</td>\n",
       "      <td>152</td>\n",
       "      <td>-77.040429</td>\n",
       "      <td>38.914881</td>\n",
       "      <td>NW</td>\n",
       "    </tr>\n",
       "    <tr>\n",
       "      <th>2</th>\n",
       "      <td>2</td>\n",
       "      <td>3</td>\n",
       "      <td>1</td>\n",
       "      <td>Hot Water Rad</td>\n",
       "      <td>Y</td>\n",
       "      <td>2.0</td>\n",
       "      <td>9</td>\n",
       "      <td>5</td>\n",
       "      <td>1910.0</td>\n",
       "      <td>2009.0</td>\n",
       "      <td>...</td>\n",
       "      <td>-77.040678</td>\n",
       "      <td>Old City 2</td>\n",
       "      <td>040 D Old City 2</td>\n",
       "      <td>4201.0</td>\n",
       "      <td>004201 2006</td>\n",
       "      <td>Ward 2</td>\n",
       "      <td>152</td>\n",
       "      <td>-77.040429</td>\n",
       "      <td>38.914881</td>\n",
       "      <td>NW</td>\n",
       "    </tr>\n",
       "    <tr>\n",
       "      <th>3</th>\n",
       "      <td>3</td>\n",
       "      <td>3</td>\n",
       "      <td>1</td>\n",
       "      <td>Hot Water Rad</td>\n",
       "      <td>Y</td>\n",
       "      <td>2.0</td>\n",
       "      <td>8</td>\n",
       "      <td>5</td>\n",
       "      <td>1900.0</td>\n",
       "      <td>2003.0</td>\n",
       "      <td>...</td>\n",
       "      <td>-77.040629</td>\n",
       "      <td>Old City 2</td>\n",
       "      <td>040 D Old City 2</td>\n",
       "      <td>4201.0</td>\n",
       "      <td>004201 2006</td>\n",
       "      <td>Ward 2</td>\n",
       "      <td>152</td>\n",
       "      <td>-77.040429</td>\n",
       "      <td>38.914881</td>\n",
       "      <td>NW</td>\n",
       "    </tr>\n",
       "    <tr>\n",
       "      <th>4</th>\n",
       "      <td>4</td>\n",
       "      <td>2</td>\n",
       "      <td>1</td>\n",
       "      <td>Warm Cool</td>\n",
       "      <td>Y</td>\n",
       "      <td>1.0</td>\n",
       "      <td>11</td>\n",
       "      <td>3</td>\n",
       "      <td>1913.0</td>\n",
       "      <td>2012.0</td>\n",
       "      <td>...</td>\n",
       "      <td>-77.039361</td>\n",
       "      <td>Old City 2</td>\n",
       "      <td>040 D Old City 2</td>\n",
       "      <td>4201.0</td>\n",
       "      <td>004201 2006</td>\n",
       "      <td>Ward 2</td>\n",
       "      <td>152</td>\n",
       "      <td>-77.040429</td>\n",
       "      <td>38.914881</td>\n",
       "      <td>NW</td>\n",
       "    </tr>\n",
       "  </tbody>\n",
       "</table>\n",
       "<p>5 rows × 49 columns</p>\n",
       "</div>"
      ],
      "text/plain": [
       "   Unnamed: 0  BATHRM  HF_BATHRM           HEAT AC  NUM_UNITS  ROOMS  BEDRM  \\\n",
       "0           0       4          0      Warm Cool  Y        2.0      8      4   \n",
       "1           1       3          1      Warm Cool  Y        2.0     11      5   \n",
       "2           2       3          1  Hot Water Rad  Y        2.0      9      5   \n",
       "3           3       3          1  Hot Water Rad  Y        2.0      8      5   \n",
       "4           4       2          1      Warm Cool  Y        1.0     11      3   \n",
       "\n",
       "      AYB  YR_RMDL  ...  LONGITUDE  ASSESSMENT_NBHD ASSESSMENT_SUBNBHD  \\\n",
       "0  1910.0   1988.0  ... -77.040832       Old City 2   040 D Old City 2   \n",
       "1  1898.0   2007.0  ... -77.040764       Old City 2   040 D Old City 2   \n",
       "2  1910.0   2009.0  ... -77.040678       Old City 2   040 D Old City 2   \n",
       "3  1900.0   2003.0  ... -77.040629       Old City 2   040 D Old City 2   \n",
       "4  1913.0   2012.0  ... -77.039361       Old City 2   040 D Old City 2   \n",
       "\n",
       "   CENSUS_TRACT CENSUS_BLOCK    WARD  SQUARE          X          Y QUADRANT  \n",
       "0        4201.0  004201 2006  Ward 2     152 -77.040429  38.914881       NW  \n",
       "1        4201.0  004201 2006  Ward 2     152 -77.040429  38.914881       NW  \n",
       "2        4201.0  004201 2006  Ward 2     152 -77.040429  38.914881       NW  \n",
       "3        4201.0  004201 2006  Ward 2     152 -77.040429  38.914881       NW  \n",
       "4        4201.0  004201 2006  Ward 2     152 -77.040429  38.914881       NW  \n",
       "\n",
       "[5 rows x 49 columns]"
      ]
     },
     "execution_count": 2,
     "metadata": {},
     "output_type": "execute_result"
    }
   ],
   "source": [
    "filepath = \"DC_Properties.csv\"\n",
    "\n",
    "dcp_df1 = pd.read_csv(filepath)\n",
    "dcp_df1.head()"
   ]
  },
  {
   "cell_type": "code",
   "execution_count": 3,
   "metadata": {},
   "outputs": [],
   "source": [
    "#removing columns with no impact on price\n",
    "dcp_df=dcp_df1\n",
    "dcp_df = dcp_df.drop(['Unnamed: 0','HEAT','WARD','AC','ASSESSMENT_NBHD', 'ASSESSMENT_SUBNBHD', 'CITY', \n",
    "                      'CENSUS_TRACT', 'FULLADDRESS', 'ZIPCODE', 'SALEDATE','LIVING_GBA',\n",
    "                      'LATITUDE', 'LONGITUDE','CENSUS_BLOCK', 'AYB','Y','QUADRANT','X', \n",
    "                      'CMPLX_NUM', 'YR_RMDL','FULLADDRESS','NATIONALGRID','CENSUS_BLOCK',\n",
    "                      'STATE','CITY','EXTWALL','INTWALL','CENSUS_TRACT','ZIPCODE', 'QUALIFIED'], axis=1)\n",
    "\n"
   ]
  },
  {
   "cell_type": "code",
   "execution_count": 4,
   "metadata": {},
   "outputs": [
    {
     "data": {
      "text/plain": [
       "Index(['BATHRM', 'HF_BATHRM', 'NUM_UNITS', 'ROOMS', 'BEDRM', 'EYB', 'STORIES',\n",
       "       'PRICE', 'SALE_NUM', 'GBA', 'BLDG_NUM', 'STYLE', 'STRUCT', 'GRADE',\n",
       "       'CNDTN', 'ROOF', 'KITCHENS', 'FIREPLACES', 'USECODE', 'LANDAREA',\n",
       "       'GIS_LAST_MOD_DTTM', 'SOURCE', 'SQUARE'],\n",
       "      dtype='object')"
      ]
     },
     "execution_count": 4,
     "metadata": {},
     "output_type": "execute_result"
    }
   ],
   "source": [
    "dcp_df.columns"
   ]
  },
  {
   "cell_type": "code",
   "execution_count": 5,
   "metadata": {},
   "outputs": [
    {
     "data": {
      "text/plain": [
       "BATHRM               0.000000\n",
       "HF_BATHRM            0.000000\n",
       "NUM_UNITS            0.328774\n",
       "ROOMS                0.000000\n",
       "BEDRM                0.000000\n",
       "EYB                  0.000000\n",
       "STORIES              0.329051\n",
       "PRICE                0.382122\n",
       "SALE_NUM             0.000000\n",
       "GBA                  0.328774\n",
       "BLDG_NUM             0.000000\n",
       "STYLE                0.328774\n",
       "STRUCT               0.328774\n",
       "GRADE                0.328774\n",
       "CNDTN                0.328774\n",
       "ROOF                 0.328774\n",
       "KITCHENS             0.328781\n",
       "FIREPLACES           0.000000\n",
       "USECODE              0.000000\n",
       "LANDAREA             0.000000\n",
       "GIS_LAST_MOD_DTTM    0.000000\n",
       "SOURCE               0.000000\n",
       "SQUARE               0.000000\n",
       "dtype: float64"
      ]
     },
     "execution_count": 5,
     "metadata": {},
     "output_type": "execute_result"
    }
   ],
   "source": [
    "#check if any missing values in the data\n",
    "dcp_df.isnull().mean()"
   ]
  },
  {
   "cell_type": "code",
   "execution_count": 6,
   "metadata": {},
   "outputs": [],
   "source": [
    "dcp_df[\"NUM_UNITS\"] = dcp_df[\"NUM_UNITS\"].fillna(0)\n",
    "dcp_df[\"STORIES\"] = dcp_df[\"STORIES\"].fillna(0)\n",
    "dcp_df[\"KITCHENS\"] = dcp_df[\"KITCHENS\"].fillna(0)\n",
    "dcp_df[\"GRADE\"] = dcp_df[\"GRADE\"].fillna(\"None\")\n",
    "dcp_df[\"STRUCT\"] = dcp_df[\"STRUCT\"].fillna(\"None\")\n",
    "dcp_df[\"ROOF\"] = dcp_df[\"ROOF\"].fillna(\"None\")\n",
    "dcp_df[\"STYLE\"] = dcp_df[\"STYLE\"].fillna(\"None\")\n",
    "dcp_df[\"CNDTN\"] = dcp_df[\"CNDTN\"].fillna(\"None\")"
   ]
  },
  {
   "cell_type": "code",
   "execution_count": 7,
   "metadata": {},
   "outputs": [],
   "source": [
    "#GIS_LAST_MOD_DTTM\n",
    "dcp_df['GIS_LAST_MOD_DTTM'] = pd.to_datetime(dcp_df['GIS_LAST_MOD_DTTM'])\n",
    "dcp_df.dropna(subset=['GIS_LAST_MOD_DTTM'], inplace=True)"
   ]
  },
  {
   "cell_type": "code",
   "execution_count": 8,
   "metadata": {},
   "outputs": [],
   "source": [
    "dcp_df = dcp_df.drop([\"GRADE\",\"STRUCT\",\"ROOF\",\"STYLE\",\"CNDTN\", 'GIS_LAST_MOD_DTTM','SOURCE','SQUARE'],axis=1)"
   ]
  },
  {
   "cell_type": "code",
   "execution_count": 9,
   "metadata": {},
   "outputs": [],
   "source": [
    "#fILLING NA Values\n",
    "mean_GBA = np.mean(dcp_df.GBA)\n",
    "dcp_df['GBA']=dcp_df.GBA.fillna(mean_GBA)"
   ]
  },
  {
   "cell_type": "code",
   "execution_count": 10,
   "metadata": {},
   "outputs": [],
   "source": [
    "dcp_df = dcp_df.dropna(subset=['PRICE'])"
   ]
  },
  {
   "cell_type": "code",
   "execution_count": 11,
   "metadata": {},
   "outputs": [
    {
     "data": {
      "text/plain": [
       "BATHRM        0.0\n",
       "HF_BATHRM     0.0\n",
       "NUM_UNITS     0.0\n",
       "ROOMS         0.0\n",
       "BEDRM         0.0\n",
       "EYB           0.0\n",
       "STORIES       0.0\n",
       "PRICE         0.0\n",
       "SALE_NUM      0.0\n",
       "GBA           0.0\n",
       "BLDG_NUM      0.0\n",
       "KITCHENS      0.0\n",
       "FIREPLACES    0.0\n",
       "USECODE       0.0\n",
       "LANDAREA      0.0\n",
       "dtype: float64"
      ]
     },
     "execution_count": 11,
     "metadata": {},
     "output_type": "execute_result"
    }
   ],
   "source": [
    "#check if any missing values in the data\n",
    "dcp_df.isnull().mean()"
   ]
  },
  {
   "cell_type": "code",
   "execution_count": 12,
   "metadata": {},
   "outputs": [
    {
     "data": {
      "text/html": [
       "<div>\n",
       "<style scoped>\n",
       "    .dataframe tbody tr th:only-of-type {\n",
       "        vertical-align: middle;\n",
       "    }\n",
       "\n",
       "    .dataframe tbody tr th {\n",
       "        vertical-align: top;\n",
       "    }\n",
       "\n",
       "    .dataframe thead th {\n",
       "        text-align: right;\n",
       "    }\n",
       "</style>\n",
       "<table border=\"1\" class=\"dataframe\">\n",
       "  <thead>\n",
       "    <tr style=\"text-align: right;\">\n",
       "      <th></th>\n",
       "      <th>BATHRM</th>\n",
       "      <th>HF_BATHRM</th>\n",
       "      <th>NUM_UNITS</th>\n",
       "      <th>ROOMS</th>\n",
       "      <th>BEDRM</th>\n",
       "      <th>EYB</th>\n",
       "      <th>STORIES</th>\n",
       "      <th>PRICE</th>\n",
       "      <th>SALE_NUM</th>\n",
       "      <th>GBA</th>\n",
       "      <th>BLDG_NUM</th>\n",
       "      <th>KITCHENS</th>\n",
       "      <th>FIREPLACES</th>\n",
       "      <th>USECODE</th>\n",
       "      <th>LANDAREA</th>\n",
       "    </tr>\n",
       "  </thead>\n",
       "  <tbody>\n",
       "    <tr>\n",
       "      <th>0</th>\n",
       "      <td>4</td>\n",
       "      <td>0</td>\n",
       "      <td>2.0</td>\n",
       "      <td>8</td>\n",
       "      <td>4</td>\n",
       "      <td>1972</td>\n",
       "      <td>3.0</td>\n",
       "      <td>1095000.0</td>\n",
       "      <td>1</td>\n",
       "      <td>2522.000000</td>\n",
       "      <td>1</td>\n",
       "      <td>2.0</td>\n",
       "      <td>5</td>\n",
       "      <td>24</td>\n",
       "      <td>1680</td>\n",
       "    </tr>\n",
       "    <tr>\n",
       "      <th>2</th>\n",
       "      <td>3</td>\n",
       "      <td>1</td>\n",
       "      <td>2.0</td>\n",
       "      <td>9</td>\n",
       "      <td>5</td>\n",
       "      <td>1984</td>\n",
       "      <td>3.0</td>\n",
       "      <td>2100000.0</td>\n",
       "      <td>3</td>\n",
       "      <td>2522.000000</td>\n",
       "      <td>1</td>\n",
       "      <td>2.0</td>\n",
       "      <td>4</td>\n",
       "      <td>24</td>\n",
       "      <td>1680</td>\n",
       "    </tr>\n",
       "    <tr>\n",
       "      <th>3</th>\n",
       "      <td>3</td>\n",
       "      <td>1</td>\n",
       "      <td>2.0</td>\n",
       "      <td>8</td>\n",
       "      <td>5</td>\n",
       "      <td>1984</td>\n",
       "      <td>3.0</td>\n",
       "      <td>1602000.0</td>\n",
       "      <td>1</td>\n",
       "      <td>2484.000000</td>\n",
       "      <td>1</td>\n",
       "      <td>2.0</td>\n",
       "      <td>3</td>\n",
       "      <td>24</td>\n",
       "      <td>1680</td>\n",
       "    </tr>\n",
       "    <tr>\n",
       "      <th>5</th>\n",
       "      <td>3</td>\n",
       "      <td>2</td>\n",
       "      <td>1.0</td>\n",
       "      <td>10</td>\n",
       "      <td>5</td>\n",
       "      <td>1972</td>\n",
       "      <td>4.0</td>\n",
       "      <td>1950000.0</td>\n",
       "      <td>1</td>\n",
       "      <td>5344.000000</td>\n",
       "      <td>1</td>\n",
       "      <td>1.0</td>\n",
       "      <td>4</td>\n",
       "      <td>11</td>\n",
       "      <td>2196</td>\n",
       "    </tr>\n",
       "    <tr>\n",
       "      <th>7</th>\n",
       "      <td>3</td>\n",
       "      <td>1</td>\n",
       "      <td>2.0</td>\n",
       "      <td>8</td>\n",
       "      <td>4</td>\n",
       "      <td>1972</td>\n",
       "      <td>3.0</td>\n",
       "      <td>1050000.0</td>\n",
       "      <td>1</td>\n",
       "      <td>2401.000000</td>\n",
       "      <td>1</td>\n",
       "      <td>2.0</td>\n",
       "      <td>1</td>\n",
       "      <td>24</td>\n",
       "      <td>1627</td>\n",
       "    </tr>\n",
       "    <tr>\n",
       "      <th>...</th>\n",
       "      <td>...</td>\n",
       "      <td>...</td>\n",
       "      <td>...</td>\n",
       "      <td>...</td>\n",
       "      <td>...</td>\n",
       "      <td>...</td>\n",
       "      <td>...</td>\n",
       "      <td>...</td>\n",
       "      <td>...</td>\n",
       "      <td>...</td>\n",
       "      <td>...</td>\n",
       "      <td>...</td>\n",
       "      <td>...</td>\n",
       "      <td>...</td>\n",
       "      <td>...</td>\n",
       "    </tr>\n",
       "    <tr>\n",
       "      <th>158951</th>\n",
       "      <td>3</td>\n",
       "      <td>1</td>\n",
       "      <td>0.0</td>\n",
       "      <td>5</td>\n",
       "      <td>3</td>\n",
       "      <td>1938</td>\n",
       "      <td>0.0</td>\n",
       "      <td>389000.0</td>\n",
       "      <td>1</td>\n",
       "      <td>1714.539889</td>\n",
       "      <td>1</td>\n",
       "      <td>0.0</td>\n",
       "      <td>0</td>\n",
       "      <td>16</td>\n",
       "      <td>502</td>\n",
       "    </tr>\n",
       "    <tr>\n",
       "      <th>158952</th>\n",
       "      <td>1</td>\n",
       "      <td>0</td>\n",
       "      <td>0.0</td>\n",
       "      <td>3</td>\n",
       "      <td>1</td>\n",
       "      <td>1938</td>\n",
       "      <td>0.0</td>\n",
       "      <td>399900.0</td>\n",
       "      <td>4</td>\n",
       "      <td>1714.539889</td>\n",
       "      <td>1</td>\n",
       "      <td>0.0</td>\n",
       "      <td>0</td>\n",
       "      <td>16</td>\n",
       "      <td>394</td>\n",
       "    </tr>\n",
       "    <tr>\n",
       "      <th>158953</th>\n",
       "      <td>1</td>\n",
       "      <td>0</td>\n",
       "      <td>0.0</td>\n",
       "      <td>4</td>\n",
       "      <td>2</td>\n",
       "      <td>1938</td>\n",
       "      <td>0.0</td>\n",
       "      <td>416000.0</td>\n",
       "      <td>1</td>\n",
       "      <td>1714.539889</td>\n",
       "      <td>1</td>\n",
       "      <td>0.0</td>\n",
       "      <td>0</td>\n",
       "      <td>16</td>\n",
       "      <td>506</td>\n",
       "    </tr>\n",
       "    <tr>\n",
       "      <th>158954</th>\n",
       "      <td>2</td>\n",
       "      <td>0</td>\n",
       "      <td>0.0</td>\n",
       "      <td>4</td>\n",
       "      <td>2</td>\n",
       "      <td>1920</td>\n",
       "      <td>0.0</td>\n",
       "      <td>600000.0</td>\n",
       "      <td>1</td>\n",
       "      <td>1714.539889</td>\n",
       "      <td>1</td>\n",
       "      <td>0.0</td>\n",
       "      <td>0</td>\n",
       "      <td>16</td>\n",
       "      <td>467</td>\n",
       "    </tr>\n",
       "    <tr>\n",
       "      <th>158955</th>\n",
       "      <td>1</td>\n",
       "      <td>0</td>\n",
       "      <td>0.0</td>\n",
       "      <td>2</td>\n",
       "      <td>0</td>\n",
       "      <td>1965</td>\n",
       "      <td>0.0</td>\n",
       "      <td>215100.0</td>\n",
       "      <td>3</td>\n",
       "      <td>1714.539889</td>\n",
       "      <td>1</td>\n",
       "      <td>0.0</td>\n",
       "      <td>0</td>\n",
       "      <td>17</td>\n",
       "      <td>332</td>\n",
       "    </tr>\n",
       "  </tbody>\n",
       "</table>\n",
       "<p>98216 rows × 15 columns</p>\n",
       "</div>"
      ],
      "text/plain": [
       "        BATHRM  HF_BATHRM  NUM_UNITS  ROOMS  BEDRM   EYB  STORIES      PRICE  \\\n",
       "0            4          0        2.0      8      4  1972      3.0  1095000.0   \n",
       "2            3          1        2.0      9      5  1984      3.0  2100000.0   \n",
       "3            3          1        2.0      8      5  1984      3.0  1602000.0   \n",
       "5            3          2        1.0     10      5  1972      4.0  1950000.0   \n",
       "7            3          1        2.0      8      4  1972      3.0  1050000.0   \n",
       "...        ...        ...        ...    ...    ...   ...      ...        ...   \n",
       "158951       3          1        0.0      5      3  1938      0.0   389000.0   \n",
       "158952       1          0        0.0      3      1  1938      0.0   399900.0   \n",
       "158953       1          0        0.0      4      2  1938      0.0   416000.0   \n",
       "158954       2          0        0.0      4      2  1920      0.0   600000.0   \n",
       "158955       1          0        0.0      2      0  1965      0.0   215100.0   \n",
       "\n",
       "        SALE_NUM          GBA  BLDG_NUM  KITCHENS  FIREPLACES  USECODE  \\\n",
       "0              1  2522.000000         1       2.0           5       24   \n",
       "2              3  2522.000000         1       2.0           4       24   \n",
       "3              1  2484.000000         1       2.0           3       24   \n",
       "5              1  5344.000000         1       1.0           4       11   \n",
       "7              1  2401.000000         1       2.0           1       24   \n",
       "...          ...          ...       ...       ...         ...      ...   \n",
       "158951         1  1714.539889         1       0.0           0       16   \n",
       "158952         4  1714.539889         1       0.0           0       16   \n",
       "158953         1  1714.539889         1       0.0           0       16   \n",
       "158954         1  1714.539889         1       0.0           0       16   \n",
       "158955         3  1714.539889         1       0.0           0       17   \n",
       "\n",
       "        LANDAREA  \n",
       "0           1680  \n",
       "2           1680  \n",
       "3           1680  \n",
       "5           2196  \n",
       "7           1627  \n",
       "...          ...  \n",
       "158951       502  \n",
       "158952       394  \n",
       "158953       506  \n",
       "158954       467  \n",
       "158955       332  \n",
       "\n",
       "[98216 rows x 15 columns]"
      ]
     },
     "execution_count": 12,
     "metadata": {},
     "output_type": "execute_result"
    }
   ],
   "source": [
    "dcp_df"
   ]
  },
  {
   "cell_type": "code",
   "execution_count": 13,
   "metadata": {},
   "outputs": [
    {
     "data": {
      "text/html": [
       "<div>\n",
       "<style scoped>\n",
       "    .dataframe tbody tr th:only-of-type {\n",
       "        vertical-align: middle;\n",
       "    }\n",
       "\n",
       "    .dataframe tbody tr th {\n",
       "        vertical-align: top;\n",
       "    }\n",
       "\n",
       "    .dataframe thead th {\n",
       "        text-align: right;\n",
       "    }\n",
       "</style>\n",
       "<table border=\"1\" class=\"dataframe\">\n",
       "  <thead>\n",
       "    <tr style=\"text-align: right;\">\n",
       "      <th></th>\n",
       "      <th>BATHRM</th>\n",
       "      <th>HF_BATHRM</th>\n",
       "      <th>NUM_UNITS</th>\n",
       "      <th>ROOMS</th>\n",
       "      <th>BEDRM</th>\n",
       "      <th>EYB</th>\n",
       "      <th>STORIES</th>\n",
       "      <th>PRICE</th>\n",
       "      <th>SALE_NUM</th>\n",
       "      <th>GBA</th>\n",
       "      <th>BLDG_NUM</th>\n",
       "      <th>KITCHENS</th>\n",
       "      <th>FIREPLACES</th>\n",
       "      <th>USECODE</th>\n",
       "      <th>LANDAREA</th>\n",
       "    </tr>\n",
       "  </thead>\n",
       "  <tbody>\n",
       "    <tr>\n",
       "      <th>count</th>\n",
       "      <td>98216.000000</td>\n",
       "      <td>98216.000000</td>\n",
       "      <td>98216.000000</td>\n",
       "      <td>98216.000000</td>\n",
       "      <td>98216.000000</td>\n",
       "      <td>98216.000000</td>\n",
       "      <td>98216.000000</td>\n",
       "      <td>9.821600e+04</td>\n",
       "      <td>98216.000000</td>\n",
       "      <td>98216.000000</td>\n",
       "      <td>98216.000000</td>\n",
       "      <td>98216.000000</td>\n",
       "      <td>98216.000000</td>\n",
       "      <td>98216.000000</td>\n",
       "      <td>98216.000000</td>\n",
       "    </tr>\n",
       "    <tr>\n",
       "      <th>mean</th>\n",
       "      <td>1.859157</td>\n",
       "      <td>0.444541</td>\n",
       "      <td>0.719842</td>\n",
       "      <td>5.921836</td>\n",
       "      <td>2.606480</td>\n",
       "      <td>1965.759876</td>\n",
       "      <td>1.251813</td>\n",
       "      <td>9.313516e+05</td>\n",
       "      <td>1.862446</td>\n",
       "      <td>1721.169842</td>\n",
       "      <td>1.000143</td>\n",
       "      <td>0.737415</td>\n",
       "      <td>3.521972</td>\n",
       "      <td>14.613393</td>\n",
       "      <td>2084.296123</td>\n",
       "    </tr>\n",
       "    <tr>\n",
       "      <th>std</th>\n",
       "      <td>0.978321</td>\n",
       "      <td>0.576217</td>\n",
       "      <td>0.768342</td>\n",
       "      <td>2.637816</td>\n",
       "      <td>1.393801</td>\n",
       "      <td>27.500116</td>\n",
       "      <td>3.206172</td>\n",
       "      <td>7.061325e+06</td>\n",
       "      <td>1.399710</td>\n",
       "      <td>634.109845</td>\n",
       "      <td>0.011938</td>\n",
       "      <td>0.797797</td>\n",
       "      <td>937.972785</td>\n",
       "      <td>3.683449</td>\n",
       "      <td>2765.429658</td>\n",
       "    </tr>\n",
       "    <tr>\n",
       "      <th>min</th>\n",
       "      <td>0.000000</td>\n",
       "      <td>0.000000</td>\n",
       "      <td>0.000000</td>\n",
       "      <td>0.000000</td>\n",
       "      <td>0.000000</td>\n",
       "      <td>1800.000000</td>\n",
       "      <td>0.000000</td>\n",
       "      <td>1.000000e+00</td>\n",
       "      <td>1.000000</td>\n",
       "      <td>0.000000</td>\n",
       "      <td>1.000000</td>\n",
       "      <td>0.000000</td>\n",
       "      <td>0.000000</td>\n",
       "      <td>11.000000</td>\n",
       "      <td>0.000000</td>\n",
       "    </tr>\n",
       "    <tr>\n",
       "      <th>25%</th>\n",
       "      <td>1.000000</td>\n",
       "      <td>0.000000</td>\n",
       "      <td>0.000000</td>\n",
       "      <td>4.000000</td>\n",
       "      <td>2.000000</td>\n",
       "      <td>1954.000000</td>\n",
       "      <td>0.000000</td>\n",
       "      <td>2.400000e+05</td>\n",
       "      <td>1.000000</td>\n",
       "      <td>1404.000000</td>\n",
       "      <td>1.000000</td>\n",
       "      <td>0.000000</td>\n",
       "      <td>0.000000</td>\n",
       "      <td>11.000000</td>\n",
       "      <td>482.000000</td>\n",
       "    </tr>\n",
       "    <tr>\n",
       "      <th>50%</th>\n",
       "      <td>2.000000</td>\n",
       "      <td>0.000000</td>\n",
       "      <td>1.000000</td>\n",
       "      <td>6.000000</td>\n",
       "      <td>3.000000</td>\n",
       "      <td>1965.000000</td>\n",
       "      <td>2.000000</td>\n",
       "      <td>3.999990e+05</td>\n",
       "      <td>1.000000</td>\n",
       "      <td>1714.539889</td>\n",
       "      <td>1.000000</td>\n",
       "      <td>1.000000</td>\n",
       "      <td>0.000000</td>\n",
       "      <td>13.000000</td>\n",
       "      <td>1380.000000</td>\n",
       "    </tr>\n",
       "    <tr>\n",
       "      <th>75%</th>\n",
       "      <td>2.000000</td>\n",
       "      <td>1.000000</td>\n",
       "      <td>1.000000</td>\n",
       "      <td>7.000000</td>\n",
       "      <td>3.000000</td>\n",
       "      <td>1981.000000</td>\n",
       "      <td>2.000000</td>\n",
       "      <td>6.520000e+05</td>\n",
       "      <td>3.000000</td>\n",
       "      <td>1714.539889</td>\n",
       "      <td>1.000000</td>\n",
       "      <td>1.000000</td>\n",
       "      <td>1.000000</td>\n",
       "      <td>17.000000</td>\n",
       "      <td>2556.000000</td>\n",
       "    </tr>\n",
       "    <tr>\n",
       "      <th>max</th>\n",
       "      <td>12.000000</td>\n",
       "      <td>11.000000</td>\n",
       "      <td>6.000000</td>\n",
       "      <td>31.000000</td>\n",
       "      <td>20.000000</td>\n",
       "      <td>2018.000000</td>\n",
       "      <td>826.000000</td>\n",
       "      <td>1.374275e+08</td>\n",
       "      <td>15.000000</td>\n",
       "      <td>15902.000000</td>\n",
       "      <td>2.000000</td>\n",
       "      <td>44.000000</td>\n",
       "      <td>293920.000000</td>\n",
       "      <td>117.000000</td>\n",
       "      <td>187301.000000</td>\n",
       "    </tr>\n",
       "  </tbody>\n",
       "</table>\n",
       "</div>"
      ],
      "text/plain": [
       "             BATHRM     HF_BATHRM     NUM_UNITS         ROOMS         BEDRM  \\\n",
       "count  98216.000000  98216.000000  98216.000000  98216.000000  98216.000000   \n",
       "mean       1.859157      0.444541      0.719842      5.921836      2.606480   \n",
       "std        0.978321      0.576217      0.768342      2.637816      1.393801   \n",
       "min        0.000000      0.000000      0.000000      0.000000      0.000000   \n",
       "25%        1.000000      0.000000      0.000000      4.000000      2.000000   \n",
       "50%        2.000000      0.000000      1.000000      6.000000      3.000000   \n",
       "75%        2.000000      1.000000      1.000000      7.000000      3.000000   \n",
       "max       12.000000     11.000000      6.000000     31.000000     20.000000   \n",
       "\n",
       "                EYB       STORIES         PRICE      SALE_NUM           GBA  \\\n",
       "count  98216.000000  98216.000000  9.821600e+04  98216.000000  98216.000000   \n",
       "mean    1965.759876      1.251813  9.313516e+05      1.862446   1721.169842   \n",
       "std       27.500116      3.206172  7.061325e+06      1.399710    634.109845   \n",
       "min     1800.000000      0.000000  1.000000e+00      1.000000      0.000000   \n",
       "25%     1954.000000      0.000000  2.400000e+05      1.000000   1404.000000   \n",
       "50%     1965.000000      2.000000  3.999990e+05      1.000000   1714.539889   \n",
       "75%     1981.000000      2.000000  6.520000e+05      3.000000   1714.539889   \n",
       "max     2018.000000    826.000000  1.374275e+08     15.000000  15902.000000   \n",
       "\n",
       "           BLDG_NUM      KITCHENS     FIREPLACES       USECODE       LANDAREA  \n",
       "count  98216.000000  98216.000000   98216.000000  98216.000000   98216.000000  \n",
       "mean       1.000143      0.737415       3.521972     14.613393    2084.296123  \n",
       "std        0.011938      0.797797     937.972785      3.683449    2765.429658  \n",
       "min        1.000000      0.000000       0.000000     11.000000       0.000000  \n",
       "25%        1.000000      0.000000       0.000000     11.000000     482.000000  \n",
       "50%        1.000000      1.000000       0.000000     13.000000    1380.000000  \n",
       "75%        1.000000      1.000000       1.000000     17.000000    2556.000000  \n",
       "max        2.000000     44.000000  293920.000000    117.000000  187301.000000  "
      ]
     },
     "execution_count": 13,
     "metadata": {},
     "output_type": "execute_result"
    }
   ],
   "source": [
    "#descriptive statistics\n",
    "dcp_df.describe()"
   ]
  },
  {
   "cell_type": "code",
   "execution_count": 14,
   "metadata": {},
   "outputs": [
    {
     "data": {
      "image/png": "[encoded data removed]",
      "text/plain": [
       "<Figure size 720x720 with 16 Axes>"
      ]
     },
     "metadata": {
      "needs_background": "light"
     },
     "output_type": "display_data"
    }
   ],
   "source": [
    "#plot the frequency count for each column\n",
    "dcp_df.hist(figsize=(10,10));"
   ]
  },
  {
   "cell_type": "markdown",
   "metadata": {},
   "source": [
    "We can see from the descriptive statistics and the frequency distribution plots that each feature (column) has varying ranges. Features such as Insulin have a high maximum value but other features like DiabetesPedigreeFunction have low maximum values."
   ]
  },
  {
   "cell_type": "code",
   "execution_count": 15,
   "metadata": {},
   "outputs": [
    {
     "data": {
      "image/png": "[encoded data removed]",
      "text/plain": [
       "<Figure size 720x720 with 16 Axes>"
      ]
     },
     "metadata": {
      "needs_background": "light"
     },
     "output_type": "display_data"
    }
   ],
   "source": [
    "#plot frequency count data but using the same scale (minimum and maximum value out of all columns)\n",
    "dcp_df.hist(figsize=(10,10), sharex=True);"
   ]
  },
  {
   "cell_type": "markdown",
   "metadata": {},
   "source": [
    "**Scaling will help to find any drastic effects that occur in the data when comparing multiple features. If we try to see any effects when putting the features on the same scale in the default data, as in the above charts, smaller values cannot be seen.**"
   ]
  },
  {
   "cell_type": "markdown",
   "metadata": {},
   "source": [
    "### Z-score Standardization\n",
    "\n",
    "Z-score standardization is the process of converting the data to have a mean of 0 and a standard deviation of 1. The z-score is calculcated by subtracting the mean for a feature (column) by each data point value and dividing by the standard deviation.\n",
    "### \\begin{align}  z = \\frac{(value - mean)}{std dev} \\end{align}"
   ]
  },
  {
   "cell_type": "code",
   "execution_count": 16,
   "metadata": {},
   "outputs": [
    {
     "data": {
      "text/plain": [
       "0    1095000.0\n",
       "2    2100000.0\n",
       "3    1602000.0\n",
       "5    1950000.0\n",
       "7    1050000.0\n",
       "Name: PRICE, dtype: float64"
      ]
     },
     "execution_count": 16,
     "metadata": {},
     "output_type": "execute_result"
    }
   ],
   "source": [
    "#first 5 rows of the 'Glucose' column\n",
    "dcp_df['PRICE'].head()"
   ]
  },
  {
   "cell_type": "code",
   "execution_count": 17,
   "metadata": {},
   "outputs": [],
   "source": [
    "#Method 1: manual calculation of z-scores for 'Glucose' column\n",
    "\n",
    "#mean for the column\n",
    "mean = dcp_df['PRICE'].mean()\n",
    "\n",
    "#standard deviation of the column\n",
    "std = dcp_df['PRICE'].std()\n",
    "\n",
    "#each value in column minus the mean and then divide by the standard deviation\n",
    "price_z_manual = (dcp_df['PRICE'] - mean)/std"
   ]
  },
  {
   "cell_type": "code",
   "execution_count": 18,
   "metadata": {},
   "outputs": [
    {
     "data": {
      "text/plain": [
       "(931351.5949336156, 7061324.955612032)"
      ]
     },
     "execution_count": 18,
     "metadata": {},
     "output_type": "execute_result"
    }
   ],
   "source": [
    "#values for mean and standard deviation of 'Glucose column'\n",
    "mean, std"
   ]
  },
  {
   "cell_type": "code",
   "execution_count": 19,
   "metadata": {},
   "outputs": [
    {
     "data": {
      "text/plain": [
       "(5.337655258732351e-16, 1.0000000000000109)"
      ]
     },
     "execution_count": 19,
     "metadata": {},
     "output_type": "execute_result"
    }
   ],
   "source": [
    "price_z_manual.mean(), price_z_manual.std()"
   ]
  },
  {
   "cell_type": "code",
   "execution_count": 20,
   "metadata": {},
   "outputs": [
    {
     "data": {
      "text/plain": [
       "0    0.023175\n",
       "2    0.165500\n",
       "3    0.094975\n",
       "5    0.144257\n",
       "7    0.016803\n",
       "Name: PRICE, dtype: float64"
      ]
     },
     "execution_count": 20,
     "metadata": {},
     "output_type": "execute_result"
    }
   ],
   "source": [
    "#first 5 rows of z-score standardized 'Glucose' column\n",
    "price_z_manual.head()"
   ]
  },
  {
   "cell_type": "code",
   "execution_count": 21,
   "metadata": {},
   "outputs": [],
   "source": [
    "#Method 2: use scikit-learn to calculate z-scores\n",
    "\n",
    "#set StandardScale function to a variable (easier to type)\n",
    "#scaler will use z-score formula on the column\n",
    "scaler = StandardScaler()\n",
    "\n",
    "#fit_transform calculates the mean and std, and replaces any missing values w/ mean if needed\n",
    "#'Glucose' is in double set of square brackets in order to make it a dataframe\n",
    "price_zscore = scaler.fit_transform(dcp_df[['PRICE']])"
   ]
  },
  {
   "cell_type": "code",
   "execution_count": 22,
   "metadata": {},
   "outputs": [
    {
     "data": {
      "text/plain": [
       "(-4.630074029551846e-18, 1.0)"
      ]
     },
     "execution_count": 22,
     "metadata": {},
     "output_type": "execute_result"
    }
   ],
   "source": [
    "#mean and standard deviation of z-score standardized 'Glucose' column\n",
    "price_zscore.mean(), price_zscore.std()"
   ]
  },
  {
   "cell_type": "code",
   "execution_count": 23,
   "metadata": {},
   "outputs": [
    {
     "data": {
      "text/plain": [
       "array([[0.02317543],\n",
       "       [0.16550072],\n",
       "       [0.09497535],\n",
       "       [0.14425814],\n",
       "       [0.01680266]])"
      ]
     },
     "execution_count": 23,
     "metadata": {},
     "output_type": "execute_result"
    }
   ],
   "source": [
    "price_zscore[:5]"
   ]
  },
  {
   "cell_type": "code",
   "execution_count": 24,
   "metadata": {},
   "outputs": [],
   "source": [
    "#because fit_transform made an array, we have to change it back into a Series type (pandas dataframe column)\n",
    "price_z_col = pd.Series(price_zscore.reshape(-1))"
   ]
  },
  {
   "cell_type": "code",
   "execution_count": 25,
   "metadata": {},
   "outputs": [
    {
     "data": {
      "text/plain": [
       "0    0.023175\n",
       "1    0.165501\n",
       "2    0.094975\n",
       "3    0.144258\n",
       "4    0.016803\n",
       "dtype: float64"
      ]
     },
     "execution_count": 25,
     "metadata": {},
     "output_type": "execute_result"
    }
   ],
   "source": [
    "#first 5 rows of z-score standardized glucose column\n",
    "price_z_col.head()"
   ]
  },
  {
   "cell_type": "code",
   "execution_count": 26,
   "metadata": {},
   "outputs": [
    {
     "data": {
      "text/plain": [
       "<matplotlib.axes._subplots.AxesSubplot at 0x1a229e8210>"
      ]
     },
     "execution_count": 26,
     "metadata": {},
     "output_type": "execute_result"
    },
    {
     "data": {
      "image/png": "[encoded data removed]",
      "text/plain": [
       "<Figure size 432x288 with 1 Axes>"
      ]
     },
     "metadata": {
      "needs_background": "light"
     },
     "output_type": "display_data"
    }
   ],
   "source": [
    "#BEFORE: frequency count plot of 'Glucose' column\n",
    "dcp_df['PRICE'].hist()"
   ]
  },
  {
   "cell_type": "code",
   "execution_count": 27,
   "metadata": {},
   "outputs": [
    {
     "data": {
      "text/plain": [
       "<matplotlib.axes._subplots.AxesSubplot at 0x1a224ce7d0>"
      ]
     },
     "execution_count": 27,
     "metadata": {},
     "output_type": "execute_result"
    },
    {
     "data": {
      "image/png": "[encoded data removed]",
      "text/plain": [
       "<Figure size 432x288 with 1 Axes>"
      ]
     },
     "metadata": {
      "needs_background": "light"
     },
     "output_type": "display_data"
    }
   ],
   "source": [
    "#AFTER: frequency count plot of 'Glucose' column (z-score standardization)\n",
    "#range is much smaller\n",
    "price_z_col.hist()"
   ]
  },
  {
   "cell_type": "code",
   "execution_count": 28,
   "metadata": {},
   "outputs": [
    {
     "data": {
      "text/plain": [
       "['BATHRM',\n",
       " 'HF_BATHRM',\n",
       " 'NUM_UNITS',\n",
       " 'ROOMS',\n",
       " 'BEDRM',\n",
       " 'EYB',\n",
       " 'STORIES',\n",
       " 'PRICE',\n",
       " 'SALE_NUM',\n",
       " 'GBA',\n",
       " 'BLDG_NUM',\n",
       " 'KITCHENS',\n",
       " 'FIREPLACES',\n",
       " 'USECODE',\n",
       " 'LANDAREA']"
      ]
     },
     "execution_count": 28,
     "metadata": {},
     "output_type": "execute_result"
    }
   ],
   "source": [
    "colnames = list(dcp_df.columns)\n",
    "colnames"
   ]
  },
  {
   "cell_type": "code",
   "execution_count": 29,
   "metadata": {},
   "outputs": [
    {
     "data": {
      "text/plain": [
       "BATHRM        0.0\n",
       "HF_BATHRM     0.0\n",
       "NUM_UNITS     0.0\n",
       "ROOMS         0.0\n",
       "BEDRM         0.0\n",
       "EYB           0.0\n",
       "STORIES       0.0\n",
       "PRICE         0.0\n",
       "SALE_NUM      0.0\n",
       "GBA           0.0\n",
       "BLDG_NUM      0.0\n",
       "KITCHENS      0.0\n",
       "FIREPLACES    0.0\n",
       "USECODE       0.0\n",
       "LANDAREA      0.0\n",
       "dtype: float64"
      ]
     },
     "execution_count": 29,
     "metadata": {},
     "output_type": "execute_result"
    }
   ],
   "source": [
    "dcp_df.isnull().mean()"
   ]
  },
  {
   "cell_type": "code",
   "execution_count": 30,
   "metadata": {},
   "outputs": [
    {
     "data": {
      "image/png": "[encoded data removed]",
      "text/plain": [
       "<Figure size 720x720 with 16 Axes>"
      ]
     },
     "metadata": {
      "needs_background": "light"
     },
     "output_type": "display_data"
    }
   ],
   "source": [
    "#show z-score standardization for all columns\n",
    "\n",
    "#list to hold column names\n",
    "colnames = list(dcp_df.columns)\n",
    "\n",
    "#calculate z-scores\n",
    "zscore_df = pd.DataFrame(scaler.fit_transform(dcp_df), columns = colnames)\n",
    "\n",
    "#plot frequency distribution with same scale range\n",
    "zscore_df.hist(figsize=(10,10), sharex=True);"
   ]
  },
  {
   "cell_type": "markdown",
   "metadata": {},
   "source": [
    "### Min-max Scaling\n",
    "Max-min scaling transforms the data into a range from 0 to 1. The new minimum value of the column will always be 0 and the new maximum value of the column will always be 1. The values in between are calculated by using the original value and subtracting the column's minimum value, then dividing by the maximum value of the column minus the minimum value.\n",
    "\n",
    "### \\begin{align}  m = \\frac{(value - min)}{max - min} \\end{align}"
   ]
  },
  {
   "cell_type": "code",
   "execution_count": 31,
   "metadata": {},
   "outputs": [
    {
     "data": {
      "text/plain": [
       "0    0.007968\n",
       "2    0.015281\n",
       "3    0.011657\n",
       "5    0.014189\n",
       "7    0.007640\n",
       "Name: PRICE, dtype: float64"
      ]
     },
     "execution_count": 31,
     "metadata": {},
     "output_type": "execute_result"
    }
   ],
   "source": [
    "#let us do it manually first\n",
    "min_val = dcp_df['PRICE'].min()\n",
    "max_val = dcp_df['PRICE'].max()\n",
    "\n",
    "price_minmax = (dcp_df['PRICE'] - min_val)/ (max_val - min_val)\n",
    "\n",
    "price_minmax.head()"
   ]
  },
  {
   "cell_type": "code",
   "execution_count": 32,
   "metadata": {},
   "outputs": [
    {
     "data": {
      "text/plain": [
       "(0.0, 1.0)"
      ]
     },
     "execution_count": 32,
     "metadata": {},
     "output_type": "execute_result"
    }
   ],
   "source": [
    "price_minmax.min(), price_minmax.max()"
   ]
  },
  {
   "cell_type": "code",
   "execution_count": 33,
   "metadata": {},
   "outputs": [],
   "source": [
    "#MinMaxScaler function will calculate the formula\n",
    "minmax_sc = MinMaxScaler()"
   ]
  },
  {
   "cell_type": "code",
   "execution_count": 34,
   "metadata": {},
   "outputs": [],
   "source": [
    "#use MinMaxScaler function and fit_transform function on the 'Glucose' column\n",
    "price_minmax = minmax_sc.fit_transform(dcp_df[['PRICE']])"
   ]
  },
  {
   "cell_type": "code",
   "execution_count": 35,
   "metadata": {},
   "outputs": [
    {
     "data": {
      "text/plain": [
       "(0.006777030046710401, 0.0513819049810315)"
      ]
     },
     "execution_count": 35,
     "metadata": {},
     "output_type": "execute_result"
    }
   ],
   "source": [
    "#mean and standard deviation of Min-Max 'Glucose' column\n",
    "price_minmax.mean(), price_minmax.std()"
   ]
  },
  {
   "cell_type": "code",
   "execution_count": 36,
   "metadata": {},
   "outputs": [
    {
     "data": {
      "text/plain": [
       "array([[0.00796783],\n",
       "       [0.01528077],\n",
       "       [0.01165704],\n",
       "       [0.01418929],\n",
       "       [0.00764038]])"
      ]
     },
     "execution_count": 36,
     "metadata": {},
     "output_type": "execute_result"
    }
   ],
   "source": [
    "# 2D array\n",
    "price_minmax[:5]"
   ]
  },
  {
   "cell_type": "code",
   "execution_count": 37,
   "metadata": {},
   "outputs": [
    {
     "data": {
      "text/plain": [
       "0    0.007968\n",
       "1    0.015281\n",
       "2    0.011657\n",
       "3    0.014189\n",
       "4    0.007640\n",
       "dtype: float64"
      ]
     },
     "execution_count": 37,
     "metadata": {},
     "output_type": "execute_result"
    }
   ],
   "source": [
    "#convert array into a dataframe column\n",
    "#look at first 5 rows of min-max values\n",
    "price_mm_col = pd.Series(price_minmax.reshape(-1))\n",
    "price_mm_col.head()"
   ]
  },
  {
   "cell_type": "code",
   "execution_count": 38,
   "metadata": {},
   "outputs": [
    {
     "data": {
      "text/plain": [
       "(0.0, 0.9999999999999999)"
      ]
     },
     "execution_count": 38,
     "metadata": {},
     "output_type": "execute_result"
    }
   ],
   "source": [
    "#verify the range is between 0 and 1\n",
    "price_mm_col.min(), price_mm_col.max()"
   ]
  },
  {
   "cell_type": "code",
   "execution_count": 39,
   "metadata": {},
   "outputs": [
    {
     "data": {
      "text/plain": [
       "<matplotlib.axes._subplots.AxesSubplot at 0x1a22914310>"
      ]
     },
     "execution_count": 39,
     "metadata": {},
     "output_type": "execute_result"
    },
    {
     "data": {
      "image/png": "[encoded data removed]",
      "text/plain": [
       "<Figure size 432x288 with 1 Axes>"
      ]
     },
     "metadata": {
      "needs_background": "light"
     },
     "output_type": "display_data"
    }
   ],
   "source": [
    "price_mm_col.hist()"
   ]
  },
  {
   "cell_type": "code",
   "execution_count": 40,
   "metadata": {
    "scrolled": true
   },
   "outputs": [
    {
     "data": {
      "image/png": "[encoded data removed]",
      "text/plain": [
       "<Figure size 720x720 with 16 Axes>"
      ]
     },
     "metadata": {
      "needs_background": "light"
     },
     "output_type": "display_data"
    }
   ],
   "source": [
    "#show min-max scaling for all columns\n",
    "\n",
    "#calculate z-scores\n",
    "minmax_df = pd.DataFrame(minmax_sc.fit_transform(dcp_df), columns = colnames)\n",
    "\n",
    "#plot frequency distribution with same scale range\n",
    "minmax_df.hist(figsize=(10,10), sharex=True);"
   ]
  },
  {
   "cell_type": "markdown",
   "metadata": {},
   "source": [
    "### Tips for Predictive Models\n",
    "\n",
    "- Z-score standardization is most useful for regression models, such as linear regression and logistic regression\n",
    "- Min-Max scaling is more relevant for algorithms that calculate distances between data points, such as K-Nearest Neighbors and K-Means Clustering"
   ]
  },
  {
   "cell_type": "code",
   "execution_count": null,
   "metadata": {},
   "outputs": [],
   "source": []
  },
  {
   "cell_type": "code",
   "execution_count": null,
   "metadata": {},
   "outputs": [],
   "source": []
  }
 ],
 "metadata": {
  "kernelspec": {
   "display_name": "Python 3",
   "language": "python",
   "name": "python3"
  },
  "language_info": {
   "codemirror_mode": {
    "name": "ipython",
    "version": 3
   },
   "file_extension": ".py",
   "mimetype": "text/x-python",
   "name": "python",
   "nbconvert_exporter": "python",
   "pygments_lexer": "ipython3",
   "version": "3.7.6"
  }
 },
 "nbformat": 4,
 "nbformat_minor": 2
}
